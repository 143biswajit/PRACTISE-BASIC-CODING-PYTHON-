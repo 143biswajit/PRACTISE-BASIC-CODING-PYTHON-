{
  "nbformat": 4,
  "nbformat_minor": 0,
  "metadata": {
    "colab": {
      "provenance": [],
      "authorship_tag": "ABX9TyPpMBK/tmma3ZLMY0fJW6+c",
      "include_colab_link": true
    },
    "kernelspec": {
      "name": "python3",
      "display_name": "Python 3"
    },
    "language_info": {
      "name": "python"
    }
  },
  "cells": [
    {
      "cell_type": "markdown",
      "metadata": {
        "id": "view-in-github",
        "colab_type": "text"
      },
      "source": [
        "<a href=\"https://colab.research.google.com/github/143biswajit/PRACTISE-BASIC-CODING-PYTHON-/blob/main/Untitled69.ipynb\" target=\"_parent\"><img src=\"https://colab.research.google.com/assets/colab-badge.svg\" alt=\"Open In Colab\"/></a>"
      ]
    },
    {
      "cell_type": "markdown",
      "source": [
        "#  1.Enter a number and sum of digits in python ?"
      ],
      "metadata": {
        "id": "Pw2nfWg9CIKW"
      }
    },
    {
      "cell_type": "code",
      "source": [
        "num=int(input(\"enter ur number :\"))\n",
        "sum=0\n",
        "while (num>0):\n",
        "    dig=num%10\n",
        "    sum=sum+dig\n",
        "    num=num//10\n",
        "print(\"sum of digits is:\",sum)\n",
        "\n",
        " \n"
      ],
      "metadata": {
        "colab": {
          "base_uri": "https://localhost:8080/"
        },
        "id": "nyYAyIURDemI",
        "outputId": "eb3bdb39-b67d-4451-8356-b203955b2ae6"
      },
      "execution_count": 3,
      "outputs": [
        {
          "output_type": "stream",
          "name": "stdout",
          "text": [
            "enter ur number :57\n",
            "sum of digits is: 12\n"
          ]
        }
      ]
    },
    {
      "cell_type": "markdown",
      "source": [
        "# 2.**Enter a number and reverse of that number in python ?**"
      ],
      "metadata": {
        "id": "e77ZQRvOK9wM"
      }
    },
    {
      "cell_type": "code",
      "source": [
        "num=int(input(\"enter ur number :\"))\n",
        "rev=0\n",
        "while(num>0):\n",
        "    dig=num%10\n",
        "    rev=rev*10+dig\n",
        "    num=num//10\n",
        "print(rev)\n",
        "\n"
      ],
      "metadata": {
        "colab": {
          "base_uri": "https://localhost:8080/"
        },
        "id": "MWDp3ExpEuQz",
        "outputId": "cd34ae5c-11c9-4f37-9913-4d2e853a3ad5"
      },
      "execution_count": 13,
      "outputs": [
        {
          "output_type": "stream",
          "name": "stdout",
          "text": [
            "enter ur number :678\n",
            "876\n"
          ]
        }
      ]
    },
    {
      "cell_type": "markdown",
      "source": [
        "# **3.Python program to find the sum off the square of a given number?**"
      ],
      "metadata": {
        "id": "Ff7gsluvPzOn"
      }
    },
    {
      "cell_type": "code",
      "source": [
        "num=int(input(\"enter ur number :\"))\n",
        "sums=0\n",
        "while(num>0):\n",
        "    dig=num%10\n",
        "    sums=sums+dig**2\n",
        "    num=num//10\n",
        "print(sums)\n"
      ],
      "metadata": {
        "colab": {
          "base_uri": "https://localhost:8080/"
        },
        "id": "VwN0CV50NOS3",
        "outputId": "cf85f955-78b7-4036-f1e1-033755ef115d"
      },
      "execution_count": 17,
      "outputs": [
        {
          "output_type": "stream",
          "name": "stdout",
          "text": [
            "enter ur number :234\n",
            "29\n"
          ]
        }
      ]
    },
    {
      "cell_type": "markdown",
      "source": [
        "# 4. **Find the factorial of given number ?**"
      ],
      "metadata": {
        "id": "_ZTMLrRoOeir"
      }
    },
    {
      "cell_type": "code",
      "source": [
        "num=int(input(\"enter ur number :\"))\n",
        "fac=1\n",
        "i=1\n",
        "while i<=num:\n",
        "    fac=fac*i\n",
        "    i=i+1\n",
        "print(fac)\n"
      ],
      "metadata": {
        "colab": {
          "base_uri": "https://localhost:8080/"
        },
        "id": "CxbcvMVNOpF3",
        "outputId": "23d5cfcc-1e21-442a-c0b5-a641fe869ffc"
      },
      "execution_count": 23,
      "outputs": [
        {
          "output_type": "stream",
          "name": "stdout",
          "text": [
            "enter ur number :5\n",
            "120\n"
          ]
        }
      ]
    },
    {
      "cell_type": "code",
      "source": [
        "import math\n",
        "def factorial(n):\n",
        "    return(math.factorial(n))\n"
      ],
      "metadata": {
        "id": "jvmikGWiOUSs"
      },
      "execution_count": 26,
      "outputs": []
    },
    {
      "cell_type": "code",
      "source": [
        "num=int(input(\"enter ur number :\"))\n",
        "f=factorial(num)\n",
        "print(f)"
      ],
      "metadata": {
        "colab": {
          "base_uri": "https://localhost:8080/"
        },
        "id": "TzmkjoTsRRxW",
        "outputId": "e4fe37b0-08c4-47e2-b01b-19f5218388d5"
      },
      "execution_count": 20,
      "outputs": [
        {
          "output_type": "stream",
          "name": "stdout",
          "text": [
            "enter ur number :5\n",
            "120\n"
          ]
        }
      ]
    },
    {
      "cell_type": "code",
      "source": [],
      "metadata": {
        "id": "kxBuENHNRg36"
      },
      "execution_count": 20,
      "outputs": []
    }
  ]
}
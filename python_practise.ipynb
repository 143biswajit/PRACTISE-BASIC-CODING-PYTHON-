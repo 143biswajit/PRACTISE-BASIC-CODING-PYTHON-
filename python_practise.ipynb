{
  "nbformat": 4,
  "nbformat_minor": 0,
  "metadata": {
    "colab": {
      "provenance": [],
      "authorship_tag": "ABX9TyNp9xvMOGXPPOxtq+mgs69P",
      "include_colab_link": true
    },
    "kernelspec": {
      "name": "python3",
      "display_name": "Python 3"
    },
    "language_info": {
      "name": "python"
    }
  },
  "cells": [
    {
      "cell_type": "markdown",
      "metadata": {
        "id": "view-in-github",
        "colab_type": "text"
      },
      "source": [
        "<a href=\"https://colab.research.google.com/github/143biswajit/PRACTISE-BASIC-CODING-PYTHON-/blob/main/python_practise.ipynb\" target=\"_parent\"><img src=\"https://colab.research.google.com/assets/colab-badge.svg\" alt=\"Open In Colab\"/></a>"
      ]
    },
    {
      "cell_type": "markdown",
      "source": [
        "**1. python program to find the  largest  among 3 number  enter by user.?**"
      ],
      "metadata": {
        "id": "OY1LImcpEumW"
      }
    },
    {
      "cell_type": "code",
      "execution_count": null,
      "metadata": {
        "colab": {
          "base_uri": "https://localhost:8080/"
        },
        "id": "ISrtFMxnCzOE",
        "outputId": "901e35a1-5039-474c-e8ed-717371fdb724"
      },
      "outputs": [
        {
          "output_type": "stream",
          "name": "stdout",
          "text": [
            "first number5\n",
            "sceond number7\n",
            "thired number10\n",
            "10 larger number\n"
          ]
        }
      ],
      "source": [
        "#Find Largest of Three Numbers using IF\n",
        "a=int(input('first number'))\n",
        "b=int(input('sceond number'))\n",
        "c=int(input('thired number'))\n",
        "larger=0\n",
        "if a>b and a>c :\n",
        "  larger=a\n",
        "elif b>c :\n",
        "  larger=b\n",
        "else:\n",
        "  larger=c\n",
        "print(larger,\"larger number\")\n"
      ]
    },
    {
      "cell_type": "code",
      "source": [
        "#Find Largest of Three Numbers using IF-ELIF\n",
        "\n",
        "a= int(input('first number'))\n",
        "b= int(input('sceond number'))\n",
        "c=int(input('thired number'))\n",
        "larger=0\n",
        "if a>b and a>c:\n",
        "  larger=a\n",
        "if b>a and b>c:\n",
        "  larger=b\n",
        "if c>a and c>b:\n",
        "  larger=c\n",
        "print(larger,'larger number')"
      ],
      "metadata": {
        "colab": {
          "base_uri": "https://localhost:8080/"
        },
        "id": "QLEyyPrWDltW",
        "outputId": "e15e82c4-c904-48cc-bc95-2fdad30441b1"
      },
      "execution_count": null,
      "outputs": [
        {
          "output_type": "stream",
          "name": "stdout",
          "text": [
            "first number45\n",
            "sceond number78\n",
            "thired number23\n",
            "78 larger number\n"
          ]
        }
      ]
    },
    {
      "cell_type": "markdown",
      "source": [
        " **2.Python program to convert temprature to fahrenheit ?**"
      ],
      "metadata": {
        "id": "lcR5hvwsEPx3"
      }
    },
    {
      "cell_type": "code",
      "source": [
        "temp=float(input('enter temprature in celcius'))\n",
        "fahrenheit=(temp*18)+32\n",
        "print(fahrenheit)"
      ],
      "metadata": {
        "colab": {
          "base_uri": "https://localhost:8080/"
        },
        "id": "guvagNxbEQeQ",
        "outputId": "935f0de8-3123-4801-81b3-f5141597b7f2"
      },
      "execution_count": null,
      "outputs": [
        {
          "output_type": "stream",
          "name": "stdout",
          "text": [
            "enter temprature in celcius70\n",
            "1292.0\n"
          ]
        }
      ]
    },
    {
      "cell_type": "markdown",
      "source": [
        "3. Swap two variable using  thried variable?"
      ],
      "metadata": {
        "id": "Ix1mgZ3ELmAk"
      }
    },
    {
      "cell_type": "code",
      "source": [
        "a=int(input('enter ur 1st number'))\n",
        "b=int(input('enter ur 2nd number'))\n",
        "c=a\n",
        "a=b\n",
        "b=c\n",
        "print('value of a', a)\n",
        "print('value of b', b)"
      ],
      "metadata": {
        "colab": {
          "base_uri": "https://localhost:8080/"
        },
        "id": "b5xPX39AEayY",
        "outputId": "8b97c5ef-dd05-4f16-84e2-3da88c7ad9bd"
      },
      "execution_count": null,
      "outputs": [
        {
          "output_type": "stream",
          "name": "stdout",
          "text": [
            "enter ur 1st number555\n",
            "enter ur 2nd number333\n",
            "value of a 333\n",
            "value of b 555\n"
          ]
        }
      ]
    },
    {
      "cell_type": "markdown",
      "source": [
        "4. Python code to add  the digits "
      ],
      "metadata": {
        "id": "Idu0x1HPM1o1"
      }
    },
    {
      "cell_type": "code",
      "source": [
        "num=int(input('enter ur three digits number'))\n",
        "\n",
        "a=num % 10\n",
        "num= num//10\n",
        "b=num%10\n",
        "c=num//10\n",
        "addd= (a+b+c)\n",
        "print(addd)"
      ],
      "metadata": {
        "colab": {
          "base_uri": "https://localhost:8080/"
        },
        "id": "UZc4-rqvLePZ",
        "outputId": "750d13b7-ef77-422e-ee29-5e75979831c9"
      },
      "execution_count": null,
      "outputs": [
        {
          "output_type": "stream",
          "name": "stdout",
          "text": [
            "enter ur three digits number567\n",
            "18\n"
          ]
        }
      ]
    },
    {
      "cell_type": "markdown",
      "source": [
        "5. Reversed  digits  using python.\n",
        "\n",
        "\n",
        "\n"
      ],
      "metadata": {
        "id": "2KOL4GfMXY-a"
      }
    },
    {
      "cell_type": "code",
      "source": [
        "user=int(input([]))"
      ],
      "metadata": {
        "id": "W9865sjZbGl2"
      },
      "execution_count": null,
      "outputs": []
    },
    {
      "cell_type": "code",
      "source": [
        "user = int(input('enter ur four digit number'))\n"
      ],
      "metadata": {
        "id": "MUrDjJuLXBZf"
      },
      "execution_count": null,
      "outputs": []
    }
  ]
}
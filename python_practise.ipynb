{
  "cells": [
    {
      "cell_type": "markdown",
      "metadata": {
        "id": "view-in-github",
        "colab_type": "text"
      },
      "source": [
        "<a href=\"https://colab.research.google.com/github/143biswajit/PRACTISE-BASIC-CODING-PYTHON-/blob/main/python_practise.ipynb\" target=\"_parent\"><img src=\"https://colab.research.google.com/assets/colab-badge.svg\" alt=\"Open In Colab\"/></a>"
      ]
    },
    {
      "cell_type": "markdown",
      "metadata": {
        "id": "OY1LImcpEumW"
      },
      "source": [
        "**1. python program to find the  largest  among 3 number  enter by user.?**"
      ]
    },
    {
      "cell_type": "code",
      "execution_count": null,
      "metadata": {
        "colab": {
          "base_uri": "https://localhost:8080/"
        },
        "id": "ISrtFMxnCzOE",
        "outputId": "901e35a1-5039-474c-e8ed-717371fdb724"
      },
      "outputs": [
        {
          "name": "stdout",
          "output_type": "stream",
          "text": [
            "first number5\n",
            "sceond number7\n",
            "thired number10\n",
            "10 larger number\n"
          ]
        }
      ],
      "source": [
        "#Find Largest of Three Numbers using IF\n",
        "a=int(input('first number'))\n",
        "b=int(input('sceond number'))\n",
        "c=int(input('thired number'))\n",
        "larger=0\n",
        "if a>b and a>c :\n",
        "  larger=a\n",
        "elif b>c :\n",
        "  larger=b\n",
        "else:\n",
        "  larger=c\n",
        "print(larger,\"larger number\")\n"
      ]
    },
    {
      "cell_type": "code",
      "execution_count": null,
      "metadata": {
        "colab": {
          "base_uri": "https://localhost:8080/"
        },
        "id": "QLEyyPrWDltW",
        "outputId": "e15e82c4-c904-48cc-bc95-2fdad30441b1"
      },
      "outputs": [
        {
          "name": "stdout",
          "output_type": "stream",
          "text": [
            "first number45\n",
            "sceond number78\n",
            "thired number23\n",
            "78 larger number\n"
          ]
        }
      ],
      "source": [
        "#Find Largest of Three Numbers using IF-ELIF\n",
        "\n",
        "a= int(input('first number'))\n",
        "b= int(input('sceond number'))\n",
        "c=int(input('thired number'))\n",
        "larger=0\n",
        "if a>b and a>c:\n",
        "  larger=a\n",
        "if b>a and b>c:\n",
        "  larger=b\n",
        "if c>a and c>b:\n",
        "  larger=c\n",
        "print(larger,'larger number')"
      ]
    },
    {
      "cell_type": "markdown",
      "metadata": {
        "id": "lcR5hvwsEPx3"
      },
      "source": [
        " **2.Python program to convert temprature to fahrenheit ?**"
      ]
    },
    {
      "cell_type": "code",
      "execution_count": null,
      "metadata": {
        "colab": {
          "base_uri": "https://localhost:8080/"
        },
        "id": "guvagNxbEQeQ",
        "outputId": "935f0de8-3123-4801-81b3-f5141597b7f2"
      },
      "outputs": [
        {
          "name": "stdout",
          "output_type": "stream",
          "text": [
            "enter temprature in celcius70\n",
            "1292.0\n"
          ]
        }
      ],
      "source": [
        "temp=float(input('enter temprature in celcius'))\n",
        "fahrenheit=(temp*18)+32\n",
        "print(fahrenheit)"
      ]
    },
    {
      "cell_type": "markdown",
      "metadata": {
        "id": "Ix1mgZ3ELmAk"
      },
      "source": [
        "3. Swap two variable using  thried variable?"
      ]
    },
    {
      "cell_type": "code",
      "execution_count": null,
      "metadata": {
        "colab": {
          "base_uri": "https://localhost:8080/"
        },
        "id": "b5xPX39AEayY",
        "outputId": "8b97c5ef-dd05-4f16-84e2-3da88c7ad9bd"
      },
      "outputs": [
        {
          "name": "stdout",
          "output_type": "stream",
          "text": [
            "enter ur 1st number555\n",
            "enter ur 2nd number333\n",
            "value of a 333\n",
            "value of b 555\n"
          ]
        }
      ],
      "source": [
        "a=int(input('enter ur 1st number'))\n",
        "b=int(input('enter ur 2nd number'))\n",
        "c=a\n",
        "a=b\n",
        "b=c\n",
        "print('value of a', a)\n",
        "print('value of b', b)"
      ]
    },
    {
      "cell_type": "markdown",
      "metadata": {
        "id": "Idu0x1HPM1o1"
      },
      "source": [
        "4. Python code to add  the digits "
      ]
    },
    {
      "cell_type": "code",
      "execution_count": null,
      "metadata": {
        "colab": {
          "background_save": true
        },
        "id": "UZc4-rqvLePZ",
        "outputId": "537970bd-2794-49fa-fa9e-8c0715346bc7"
      },
      "outputs": [
        {
          "name": "stdout",
          "output_type": "stream",
          "text": [
            "8\n"
          ]
        }
      ],
      "source": [
        "num=int(input('enter ur three digits number'))\n",
        "\n",
        "a=num % 10\n",
        "num= num//10\n",
        "b=num%10\n",
        "c=num//10\n",
        "addd= (a+b+c)\n",
        "print(addd)"
      ]
    },
    {
      "cell_type": "markdown",
      "metadata": {
        "id": "2KOL4GfMXY-a"
      },
      "source": [
        "5. Reversed  digits  using python.\n",
        "\n",
        "\n",
        "\n"
      ]
    },
    {
      "cell_type": "code",
      "execution_count": null,
      "metadata": {
        "id": "W9865sjZbGl2"
      },
      "outputs": [],
      "source": [
        "\n",
        "\n",
        "#cheak\n",
        "\n",
        "\n",
        "user=int(input([]))"
      ]
    },
    {
      "cell_type": "code",
      "execution_count": null,
      "metadata": {
        "colab": {
          "base_uri": "https://localhost:8080/"
        },
        "id": "MUrDjJuLXBZf",
        "outputId": "682ba60c-8756-445d-d805-330d689ad9ba"
      },
      "outputs": [
        {
          "name": "stdout",
          "output_type": "stream",
          "text": [
            "enter ur four digit number5689\n",
            "original number 5689\n",
            "reverse num 9865\n",
            "False\n",
            "9865\n"
          ]
        }
      ],
      "source": [
        "user = int(input('enter ur four digit number'))\n",
        "num = user\n",
        "a= num % 10\n",
        "num = num //10\n",
        " \n",
        "b= num % 10\n",
        "num= num // 10\n",
        "\n",
        "c= num % 10\n",
        "d = num // 10\n",
        "# formula\n",
        "rev = 1000 *a + 100*b +10*c+d\n",
        "print('original number',user)\n",
        "print('reverse num',rev)\n",
        "\n",
        "# cheak\n",
        "if user == rev:\n",
        "  print('True')\n",
        "else:\n",
        "  print('False')\n",
        "\n",
        "print(rev)\n",
        "\n",
        "\n",
        "\n",
        "\n"
      ]
    },
    {
      "cell_type": "markdown",
      "metadata": {
        "id": "FMNLCLNBpT33"
      },
      "source": [
        "**Write a Python program to reverse a string**"
      ]
    },
    {
      "cell_type": "code",
      "execution_count": null,
      "metadata": {
        "id": "xHRCnac-5-UW"
      },
      "outputs": [],
      "source": []
    },
    {
      "cell_type": "markdown",
      "metadata": {
        "id": "tnca75hJ_mXT"
      },
      "source": [
        "6.Python program  to cheak if a number is even or odd."
      ]
    },
    {
      "cell_type": "code",
      "execution_count": null,
      "metadata": {
        "colab": {
          "base_uri": "https://localhost:8080/"
        },
        "id": "5h3c_Tsa_1CV",
        "outputId": "8f921c56-c1ee-4c2b-8be2-91ed6242b8f7"
      },
      "outputs": [
        {
          "name": "stdout",
          "output_type": "stream",
          "text": [
            "enter ur number67\n",
            "odd\n"
          ]
        }
      ],
      "source": [
        "user=int(input('enter ur number'))\n",
        "if user % 2==0:\n",
        "  print('even')\n",
        "else:\n",
        "  print('odd')"
      ]
    },
    {
      "cell_type": "code",
      "execution_count": null,
      "metadata": {
        "colab": {
          "base_uri": "https://localhost:8080/"
        },
        "id": "u09RYrs1ASQP",
        "outputId": "d4d2b0db-e308-4323-bd01-26aa61c563ad"
      },
      "outputs": [
        {
          "data": {
            "text/plain": [
              "8"
            ]
          },
          "execution_count": 11,
          "metadata": {},
          "output_type": "execute_result"
        }
      ],
      "source": [
        "5678%10\n"
      ]
    },
    {
      "cell_type": "code",
      "execution_count": null,
      "metadata": {
        "id": "rinawltABh_X"
      },
      "outputs": [],
      "source": []
    },
    {
      "cell_type": "markdown",
      "metadata": {
        "id": "e06fHwjtD1Tr"
      },
      "source": [
        "7. Leap year program "
      ]
    },
    {
      "cell_type": "code",
      "execution_count": null,
      "metadata": {
        "colab": {
          "base_uri": "https://localhost:8080/"
        },
        "id": "emh1JPBRD_Fa",
        "outputId": "cb844df4-58e0-4ec8-b96c-72afa4c21de0"
      },
      "outputs": [
        {
          "name": "stdout",
          "output_type": "stream",
          "text": [
            "enter ur year1956\n",
            "leap year\n"
          ]
        }
      ],
      "source": [
        "year= int(input('enter ur year'))\n",
        "if year%4 == 0:\n",
        "  print('leap year')\n",
        "else:\n",
        "  print('not a leap year')"
      ]
    },
    {
      "cell_type": "code",
      "execution_count": null,
      "metadata": {
        "id": "A0bVPSvJHBS2"
      },
      "outputs": [],
      "source": []
    },
    {
      "cell_type": "markdown",
      "metadata": {
        "id": "s_B6F3ENHmg8"
      },
      "source": [
        "8. Python programing  ti find the euclidean distance."
      ]
    },
    {
      "cell_type": "code",
      "execution_count": null,
      "metadata": {
        "colab": {
          "base_uri": "https://localhost:8080/"
        },
        "id": "MmwOZI58Hzfj",
        "outputId": "ad41d537-19d3-499f-bf5d-f7d2b6be9c4c"
      },
      "outputs": [
        {
          "name": "stdout",
          "output_type": "stream",
          "text": [
            "enter x_1 of x co ordinate45\n",
            "enter y_1 of y co ordinate67\n",
            "enter x_2 of x co ordinate23\n",
            "enter y_2 of y co ordinate78\n",
            "24.596747752497688\n"
          ]
        }
      ],
      "source": [
        "x_1 =float(input('enter x_1 of x co ordinate'))\n",
        "y_1= float(input('enter y_1 of y co ordinate'))\n",
        "x_2= float(input('enter x_2 of x co ordinate'))\n",
        "y_2= float(input('enter y_2 of y co ordinate'))\n",
        "\n",
        "d=((x_2 -x_1)**2 +(y_2 - y_1)**2)**0.5\n",
        "print(d)\n"
      ]
    },
    {
      "cell_type": "markdown",
      "metadata": {
        "id": "-fOpmMY_LPW6"
      },
      "source": [
        "9.Python  program to cheak  if the given 3 angles  can  from  a triangle or not"
      ]
    },
    {
      "cell_type": "code",
      "execution_count": null,
      "metadata": {
        "colab": {
          "base_uri": "https://localhost:8080/"
        },
        "id": "5PfQGjOvKtjA",
        "outputId": "850324b1-2b4c-41f5-bf5e-d574a08ac8d5"
      },
      "outputs": [
        {
          "name": "stdout",
          "output_type": "stream",
          "text": [
            "enter 1st angle60\n",
            "enter 2nd angle60\n",
            "enter 3rd angle60\n",
            "posiable\n"
          ]
        }
      ],
      "source": [
        "a=int(input('enter 1st angle'))\n",
        "b=int(input('enter 2nd angle'))\n",
        "c= int(input('enter 3rd angle'))\n",
        "\n",
        "if a+b+c==180 and a!=0 and b!=0 and c!=0:\n",
        "  print('posiable')\n",
        "else:\n",
        "  print('not posiable')\n",
        "  "
      ]
    },
    {
      "cell_type": "markdown",
      "metadata": {
        "id": "aE7o0eHrMvqY"
      },
      "source": [
        "10. python program  to  calculate profit or  loss for  given  seling and cost price."
      ]
    },
    {
      "cell_type": "code",
      "execution_count": null,
      "metadata": {
        "colab": {
          "base_uri": "https://localhost:8080/"
        },
        "id": "VO87LIxvNEG0",
        "outputId": "e2536e8a-f2ba-4ba9-d925-0682c523921b"
      },
      "outputs": [
        {
          "name": "stdout",
          "output_type": "stream",
          "text": [
            "enter ur cost price100\n",
            "enter ur selling price150\n",
            "profit: 50.0\n"
          ]
        }
      ],
      "source": [
        "cp = float(input('enter ur cost price'))\n",
        "sp = float(input('enter ur selling price'))\n",
        "\n",
        "if cp > sp:\n",
        "  amount = cp-sp\n",
        "  print('loss:',amount)\n",
        "else:\n",
        "  amount = sp-cp\n",
        "  print('profit:',amount)\n",
        "  "
      ]
    },
    {
      "cell_type": "code",
      "execution_count": null,
      "metadata": {
        "id": "i6vgpJZBN8kg"
      },
      "outputs": [],
      "source": [
        " "
      ]
    },
    {
      "cell_type": "markdown",
      "metadata": {
        "id": "2cnV7sWNRMN3"
      },
      "source": [
        "11. python program to calculate  simple intrest."
      ]
    },
    {
      "cell_type": "code",
      "execution_count": null,
      "metadata": {
        "id": "pehWgE84RakW"
      },
      "outputs": [],
      "source": [
        "p= int(input('enter ur principal'))\n",
        "r= int(input('enter ur rate of intrest'))\n",
        "t= int(input('enter ur time period in year'))\n",
        "\n",
        "si =(p*r*t)/100\n",
        "print('your simple intrest is ',si)\n",
        "a=p+si\n",
        "print('your amount is',a)\n",
        "\n"
      ]
    },
    {
      "cell_type": "code",
      "execution_count": null,
      "metadata": {
        "id": "1hLVVBUnS_me"
      },
      "outputs": [],
      "source": [
        "p= int(input('enter ur principal'))\n",
        "r= int(input('enter ur rate of intrest'))\n",
        "t= int(input('enter ur time period in year'))\n",
        "\n",
        "si =(p*r*t)/100\n",
        "print('your simple intrest is ',si)\n",
        "a=p+si\n",
        "print('your amount is',a)"
      ]
    },
    {
      "cell_type": "markdown",
      "metadata": {
        "id": "nKZV4I2vEML8"
      },
      "source": [
        "**12. valume of cylinder ?**"
      ]
    },
    {
      "cell_type": "code",
      "execution_count": null,
      "metadata": {
        "colab": {
          "base_uri": "https://localhost:8080/"
        },
        "id": "8h8kBlWu4CBA",
        "outputId": "4d136dfe-48bb-40e1-a9de-7a0b6c43b8bc"
      },
      "outputs": [
        {
          "name": "stdout",
          "output_type": "stream",
          "text": [
            "enter radius of cylinder6\n",
            "enter height of cylinder12\n",
            "your valume is 1356.48\n",
            "your cost is 54.25919999999999\n"
          ]
        }
      ],
      "source": [
        "r=float(input('enter radius of cylinder'))\n",
        "h=float(input('enter height of cylinder'))\n",
        "\n",
        "v=3.14*(r**2)*h\n",
        "print('your valume is',v)\n",
        "cost = v/1000 *40\n",
        "print('your cost is',cost)"
      ]
    },
    {
      "cell_type": "markdown",
      "metadata": {
        "id": "TlJCk1tY4M6B"
      },
      "source": [
        "**13. python program to cheak if a given number is divisable by both 3 and 6 .**"
      ]
    },
    {
      "cell_type": "code",
      "execution_count": null,
      "metadata": {
        "colab": {
          "base_uri": "https://localhost:8080/"
        },
        "id": "dcmr4DTF4Yq2",
        "outputId": "57e89d46-04f4-42cb-bb4d-1a09d1be824a"
      },
      "outputs": [
        {
          "name": "stdout",
          "output_type": "stream",
          "text": [
            "enter ur number56\n",
            "not divisiable by 3 and 6 56\n"
          ]
        }
      ],
      "source": [
        "digit=int(input('enter ur number'))\n",
        "\n",
        "if digit % 3 == 0 and digit % 6 == 0:\n",
        "  print('divisiable by 3 and 6',digit)\n",
        "else:\n",
        "  print('not divisiable by 3 and 6',digit)"
      ]
    },
    {
      "cell_type": "markdown",
      "metadata": {
        "id": "lIDNiAPz4igP"
      },
      "source": [
        "**14.Determine wheather type ?**"
      ]
    },
    {
      "cell_type": "code",
      "execution_count": null,
      "metadata": {
        "colab": {
          "base_uri": "https://localhost:8080/"
        },
        "id": "zYXrmPIc4ZiM",
        "outputId": "974e414e-e35d-4e1f-fb87-c3dfc3ded016"
      },
      "outputs": [
        {
          "name": "stdout",
          "output_type": "stream",
          "text": [
            "enter temprature in celcius35\n",
            "enter humidity percentage90\n",
            "hot and humid\n"
          ]
        }
      ],
      "source": [
        "temp = int(input('enter temprature in celcius'))\n",
        "humid= int(input('enter humidity percentage'))\n",
        "if temp >=30 and humid >=90:\n",
        "  print('hot and humid')\n",
        "elif temp >=30 and humid <90:\n",
        "  print('cold and humid')\n",
        "else:\n",
        "  print('cold')"
      ]
    },
    {
      "cell_type": "markdown",
      "metadata": {
        "id": "Q0M_ZKLV42AA"
      },
      "source": [
        "**15.Python program to find the sum off the square of a given number?**\n",
        "\n"
      ]
    },
    {
      "cell_type": "code",
      "execution_count": null,
      "metadata": {
        "colab": {
          "base_uri": "https://localhost:8080/"
        },
        "id": "lHQme5634phB",
        "outputId": "c8f7b072-2b65-49cf-ceaa-c2fc5b7c100b"
      },
      "outputs": [
        {
          "name": "stdout",
          "output_type": "stream",
          "text": [
            "enter ur  number456\n",
            "required number is  77\n"
          ]
        }
      ],
      "source": [
        "num= int (input('enter ur  number'))\n",
        "a= num %10\n",
        "num = num// 10\n",
        "b=num%10\n",
        "c=num//10\n",
        "sum=a**2+b**2+c**2\n",
        "print('required number is ',sum)\n"
      ]
    },
    {
      "cell_type": "markdown",
      "metadata": {
        "id": "FZj1q_CS5HOK"
      },
      "source": [
        "**16 . python program to cheak if a given number is armstrong number or not ?**\n",
        "\n"
      ]
    },
    {
      "cell_type": "code",
      "execution_count": null,
      "metadata": {
        "colab": {
          "base_uri": "https://localhost:8080/"
        },
        "id": "aLODBX9j4-6R",
        "outputId": "fd684130-e5ae-44e0-e481-c51ce76dfa5d"
      },
      "outputs": [
        {
          "name": "stdout",
          "output_type": "stream",
          "text": [
            "enter ur number457\n",
            "not armstrong number\n"
          ]
        }
      ],
      "source": [
        "user_input=int(input('enter ur number'))\n",
        "num= user_input\n",
        "a= num % 10\n",
        "num = num // 10\n",
        "b=num%10\n",
        "c=num//10\n",
        "\n",
        "\n",
        "if (a**3)+(b**3)+(c**3)==user_input:\n",
        "  print('number is armstrong number')\n",
        "else:\n",
        "  print('not armstrong number')"
      ]
    },
    {
      "cell_type": "markdown",
      "metadata": {
        "id": "BCGJCDGe5VqK"
      },
      "source": [
        "**17. Narcissictic number**"
      ]
    },
    {
      "cell_type": "code",
      "execution_count": null,
      "metadata": {
        "colab": {
          "base_uri": "https://localhost:8080/"
        },
        "id": "2b4Q4pBh5SCa",
        "outputId": "db2561f1-9c18-4d9b-bf95-b3ffc97280a9"
      },
      "outputs": [
        {
          "name": "stdout",
          "output_type": "stream",
          "text": [
            "enter a four digits number4578\n",
            "not a narcissictic number\n"
          ]
        }
      ],
      "source": [
        "user_input=int(input('enter a four digits number'))\n",
        "num= user_input\n",
        "\n",
        "a=num % 10\n",
        "num=num // 10\n",
        "b=num % 10\n",
        "num = num // 10\n",
        "c=num % 10\n",
        "d=num // 10\n",
        "\n",
        "if (a**4 )+(b**4)+(c**4)+(d**4) ==user_input:\n",
        "    print('narcissictic number') \n",
        "else:\n",
        "    print('not a narcissictic number')\n"
      ]
    },
    {
      "cell_type": "code",
      "execution_count": null,
      "metadata": {
        "id": "d2TWhQtyAotZ"
      },
      "outputs": [],
      "source": []
    },
    {
      "cell_type": "markdown",
      "metadata": {
        "id": "JPI_345nBDj7"
      },
      "source": [
        "**18. how to  swap two number in python ?**\n"
      ]
    },
    {
      "cell_type": "code",
      "execution_count": null,
      "metadata": {
        "colab": {
          "base_uri": "https://localhost:8080/"
        },
        "id": "w9jCEqhDBYKi",
        "outputId": "5569ef94-7233-498d-84b4-d3f77b4ca549"
      },
      "outputs": [
        {
          "name": "stdout",
          "output_type": "stream",
          "text": [
            "enter ur 1st number9\n",
            "enter ur 2nd number3\n",
            "after swaping \n",
            "ur a is 3\n",
            "ur b is 9\n"
          ]
        }
      ],
      "source": [
        "a=int(input('enter ur 1st number'))\n",
        "b=int(input('enter ur 2nd number'))\n",
        "a=a +b\n",
        "b=a-b\n",
        "a=a-b\n",
        "print('after swaping ')\n",
        "print('ur a is',a)\n",
        "print('ur b is',b)\n",
        "\n"
      ]
    },
    {
      "cell_type": "code",
      "execution_count": null,
      "metadata": {
        "id": "vTr9ZUTsCuL7"
      },
      "outputs": [],
      "source": []
    },
    {
      "cell_type": "markdown",
      "metadata": {
        "id": "BYfgD9vIDFn5"
      },
      "source": [
        "**20. python program  to print the some of sum of first  n number ?**"
      ]
    },
    {
      "cell_type": "code",
      "execution_count": null,
      "metadata": {
        "colab": {
          "base_uri": "https://localhost:8080/"
        },
        "id": "T3BviRlKDt4S",
        "outputId": "71af6884-7f4e-4aae-e46d-50376eb70f43"
      },
      "outputs": [
        {
          "name": "stdout",
          "output_type": "stream",
          "text": [
            "enter ur number50\n",
            "your number is: 1275.0\n"
          ]
        }
      ],
      "source": [
        "n=int(input('enter ur number')) \n",
        "s=n*(n+1)/2\n",
        "print('your number is:',s)\n"
      ]
    },
    {
      "cell_type": "markdown",
      "metadata": {
        "id": "UZXZ6VpyDa9f"
      },
      "source": [
        "21 python program  to multiply  two number  without  using the '*' operator ? "
      ]
    },
    {
      "cell_type": "code",
      "execution_count": null,
      "metadata": {
        "colab": {
          "base_uri": "https://localhost:8080/"
        },
        "id": "H9CkOn7vhUxM",
        "outputId": "a77a05b0-74f5-412d-9b7b-6d075521afd1"
      },
      "outputs": [
        {
          "name": "stdout",
          "output_type": "stream",
          "text": [
            "enter ur 1st number6\n",
            "enter ue 2nd number2\n",
            "ur result is: 12\n"
          ]
        }
      ],
      "source": [
        "fir_number=int(input('enter ur 1st number'))\n",
        "sec_number=int(input('enter ue 2nd number'))\n",
        "sum=0\n",
        "for i in range(0,fir_number):\n",
        "    sum=sum +sec_number\n",
        "print('ur result is:',sum)"
      ]
    },
    {
      "cell_type": "code",
      "execution_count": null,
      "metadata": {
        "id": "2hGcoQHLlU1V"
      },
      "outputs": [],
      "source": []
    },
    {
      "cell_type": "markdown",
      "metadata": {
        "id": "kU84bzL9Ir1i"
      },
      "source": [
        "**22. python program  to find the factorial of given number .**"
      ]
    },
    {
      "cell_type": "code",
      "execution_count": null,
      "metadata": {
        "id": "cXBVf823JCwS"
      },
      "outputs": [],
      "source": [
        "num = int(input('enter ur number'))\n",
        "i = 1\n",
        "if num > 0:\n",
        "    while num >=1:\n",
        "        i=i * num\n",
        "        num= num-1\n",
        "        \n",
        "    print('factorial of the  given number is:',i)\n",
        "else:\n",
        "    print('factorial not possiable')"
      ]
    },
    {
      "cell_type": "code",
      "execution_count": null,
      "metadata": {
        "id": "RxjGVogOKEcU"
      },
      "outputs": [],
      "source": [
        "# another way \n",
        "def factorial (x):\n",
        "    if x==1:\n",
        "        return 1\n",
        "    else:\n",
        "        return (x*factorial(x-1))"
      ]
    },
    {
      "cell_type": "code",
      "execution_count": null,
      "metadata": {
        "colab": {
          "base_uri": "https://localhost:8080/"
        },
        "id": "IKyoOzZGPDoy",
        "outputId": "c2c898e9-3f9e-43d3-bac9-fff77d254110"
      },
      "outputs": [
        {
          "name": "stdout",
          "output_type": "stream",
          "text": [
            "enter a number5\n",
            "the factorial of 5 is 120\n"
          ]
        }
      ],
      "source": [
        "num = int(input('enter a number'))\n",
        "result= factorial(num)\n",
        "print('the factorial of',num,'is',result)"
      ]
    },
    {
      "cell_type": "code",
      "execution_count": null,
      "metadata": {
        "colab": {
          "base_uri": "https://localhost:8080/"
        },
        "id": "hTrqKi4tPdCx",
        "outputId": "704c2c52-ca05-4fef-947d-71a55b9e7226"
      },
      "outputs": [
        {
          "name": "stdout",
          "output_type": "stream",
          "text": [
            "enter number5\n",
            "factorial number is: 120\n"
          ]
        }
      ],
      "source": [
        "# another way\n",
        "num = int(input('enter number'))\n",
        "fac=1\n",
        "for i in range(1,num+1):\n",
        "    fac=fac*i\n",
        "print('factorial number is:',fac)"
      ]
    },
    {
      "cell_type": "code",
      "execution_count": null,
      "metadata": {
        "id": "-tAzbVXIU0dM"
      },
      "outputs": [],
      "source": []
    },
    {
      "cell_type": "markdown",
      "metadata": {
        "id": "osnDynwfVtHD"
      },
      "source": [
        "** 23.Python program to print first 25 odd number?**"
      ]
    },
    {
      "cell_type": "code",
      "execution_count": null,
      "metadata": {
        "id": "yLOTG_H7XPU3"
      },
      "outputs": [],
      "source": [
        "flag=0\n",
        "i=1\n",
        "\n",
        "while True:\n",
        "    if i % 2 !=0:\n",
        "        print(i)\n",
        "        flag = flag +1\n",
        "    if flag == 25:\n",
        "        break\n",
        "    i=i+1"
      ]
    },
    {
      "cell_type": "code",
      "execution_count": null,
      "metadata": {
        "id": "TTWAKDglYlR3"
      },
      "outputs": [],
      "source": []
    },
    {
      "cell_type": "markdown",
      "metadata": {
        "id": "78wyjdYf_G7Z"
      },
      "source": [
        " **32.python program to print the 20 Fibonacci  series.**"
      ]
    },
    {
      "cell_type": "code",
      "execution_count": null,
      "metadata": {
        "colab": {
          "base_uri": "https://localhost:8080/"
        },
        "id": "roE1yVlxAGtJ",
        "outputId": "1bd6a3c8-aec4-4ed1-d565-e326b7966b55"
      },
      "outputs": [
        {
          "name": "stdout",
          "output_type": "stream",
          "text": [
            "1\n",
            "2\n",
            "3\n",
            "5\n",
            "8\n",
            "13\n",
            "21\n",
            "34\n",
            "55\n",
            "89\n",
            "144\n",
            "233\n",
            "377\n",
            "610\n",
            "987\n",
            "1597\n",
            "2584\n",
            "4181\n"
          ]
        }
      ],
      "source": [
        "def fib(n):\n",
        "    a=0\n",
        "    b=1\n",
        "    for i in range(2,n):\n",
        "        c=a+b\n",
        "        a=b\n",
        "        b=c\n",
        "        print(c)\n",
        "fib(20)\n"
      ]
    },
    {
      "cell_type": "code",
      "execution_count": null,
      "metadata": {
        "colab": {
          "base_uri": "https://localhost:8080/"
        },
        "id": "O0g9PDNdOPkk",
        "outputId": "cf1e73ed-5577-4a08-d382-ebedd46006a2"
      },
      "outputs": [
        {
          "name": "stdout",
          "output_type": "stream",
          "text": [
            "0\n",
            "1\n",
            "1\n",
            "2\n",
            "3\n",
            "5\n",
            "8\n",
            "13\n",
            "21\n",
            "34\n",
            "55\n",
            "89\n"
          ]
        }
      ],
      "source": [
        "#Another way\n",
        "count = 0\n",
        "a=0\n",
        "b=1\n",
        "print(a)\n",
        "print(b)\n",
        "while True:\n",
        "    c=a+b\n",
        "    a=b\n",
        "    b=c\n",
        "    print(c)\n",
        "    count=count+1\n",
        "    if count==10:\n",
        "        break"
      ]
    },
    {
      "cell_type": "code",
      "execution_count": null,
      "metadata": {
        "id": "M-icj7eYNtq9"
      },
      "outputs": [],
      "source": []
    },
    {
      "cell_type": "code",
      "source": [],
      "metadata": {
        "id": "_dQKGVmRIrte"
      },
      "execution_count": null,
      "outputs": []
    },
    {
      "cell_type": "markdown",
      "source": [
        "**How to find average of n number  in python ?**"
      ],
      "metadata": {
        "id": "0leTBxGvItvk"
      }
    },
    {
      "cell_type": "code",
      "source": [
        "num=int(input('how many number?'))\n",
        "total_sum=0\n",
        "\n",
        "for i in range (num):\n",
        "    number = float(input('enter any number'))\n",
        "    total_sum += number\n",
        "avg = total_sum / num\n",
        "print('Averge is :',avg)"
      ],
      "metadata": {
        "colab": {
          "base_uri": "https://localhost:8080/"
        },
        "id": "6BXnnjc3I3FB",
        "outputId": "c5af2aeb-08a8-45d5-b1e6-6ea084b388a0"
      },
      "execution_count": 5,
      "outputs": [
        {
          "output_type": "stream",
          "name": "stdout",
          "text": [
            "how many number?3\n",
            "enter any number4\n",
            "enter any number6\n",
            "enter any number9\n",
            "Averge is : 6.333333333333333\n"
          ]
        }
      ]
    },
    {
      "cell_type": "code",
      "source": [
        " numm=int(input('How many number ?'))\n",
        " total_sum=0\n",
        "\n",
        " for i in range(numm):\n",
        "     number=float(input('enter any number'))\n",
        "     total_sum += number\n",
        " avgg= total_sum /numm\n",
        " print('Average is:',avgg)\n"
      ],
      "metadata": {
        "colab": {
          "base_uri": "https://localhost:8080/"
        },
        "id": "QkWqbWQ-Kj5i",
        "outputId": "5ea55cbe-13bd-4f7f-e339-05f32ee4b06f"
      },
      "execution_count": 6,
      "outputs": [
        {
          "output_type": "stream",
          "name": "stdout",
          "text": [
            "How many number ?5\n",
            "enter any number6\n",
            "enter any number5\n",
            "enter any number8\n",
            "enter any number9\n",
            "enter any number4\n",
            "Average is: 6.4\n"
          ]
        }
      ]
    },
    {
      "cell_type": "markdown",
      "source": [
        "# **How to sum of the n positive integer number?**"
      ],
      "metadata": {
        "id": "8g3mYSaMPDdp"
      }
    },
    {
      "cell_type": "code",
      "source": [
        "n= int (input(\"Enter number :\"))\n",
        "sum = (n*(n+1)) /2\n",
        "print(sum)\n"
      ],
      "metadata": {
        "colab": {
          "base_uri": "https://localhost:8080/"
        },
        "id": "8iOVwSyfPRB9",
        "outputId": "ea326ecc-a9de-46f7-9561-d98c18cb4c74"
      },
      "execution_count": 7,
      "outputs": [
        {
          "output_type": "stream",
          "name": "stdout",
          "text": [
            "Enter number :5\n",
            "15.0\n"
          ]
        }
      ]
    },
    {
      "cell_type": "markdown",
      "source": [
        "# **How to get time of a python program's execution ?**"
      ],
      "metadata": {
        "id": "A4y4_NhaQhdh"
      }
    },
    {
      "cell_type": "code",
      "source": [
        "import time\n",
        "def myFunc ():\n",
        "    start_time = time.time()\n",
        "    s= 0\n",
        "    for i in range (1,n+1):\n",
        "        s = s + i\n",
        "    end_time = time.time()\n",
        "    return s,end_time - start_time\n",
        "n= 5\n",
        "print(myFunc())\n"
      ],
      "metadata": {
        "colab": {
          "base_uri": "https://localhost:8080/"
        },
        "id": "kjv5isZQPyiL",
        "outputId": "190a2a76-3260-4ca4-f834-82bd1afcbd0b"
      },
      "execution_count": 8,
      "outputs": [
        {
          "output_type": "stream",
          "name": "stdout",
          "text": [
            "(15, 1.6689300537109375e-06)\n"
          ]
        }
      ]
    },
    {
      "cell_type": "code",
      "source": [],
      "metadata": {
        "id": "Y9Wh-GnjUGlN"
      },
      "execution_count": null,
      "outputs": []
    },
    {
      "cell_type": "markdown",
      "source": [
        "# **How to get the current username in python ?**"
      ],
      "metadata": {
        "id": "e5RJPDw4UOZ0"
      }
    },
    {
      "cell_type": "code",
      "source": [
        "import getpass\n",
        "print(getpass.getuser())"
      ],
      "metadata": {
        "colab": {
          "base_uri": "https://localhost:8080/"
        },
        "id": "l9WUh51sUac3",
        "outputId": "dc525571-7038-4907-9046-4b9d9ba6c8e2"
      },
      "execution_count": 9,
      "outputs": [
        {
          "output_type": "stream",
          "name": "stdout",
          "text": [
            "root\n"
          ]
        }
      ]
    },
    {
      "cell_type": "markdown",
      "source": [
        "# **How to assess environment variable in pyuthon ?**"
      ],
      "metadata": {
        "id": "tlJK5rW3U9V5"
      }
    },
    {
      "cell_type": "code",
      "source": [
        "import os\n",
        "print(os.environ['PATH'])"
      ],
      "metadata": {
        "colab": {
          "base_uri": "https://localhost:8080/"
        },
        "id": "1is40UKDU3gl",
        "outputId": "b5df8863-faaf-40f5-ac41-2f7f61ec7a4e"
      },
      "execution_count": 12,
      "outputs": [
        {
          "output_type": "stream",
          "name": "stdout",
          "text": [
            "/opt/bin:/usr/local/nvidia/bin:/usr/local/cuda/bin:/usr/local/sbin:/usr/local/bin:/usr/sbin:/usr/bin:/sbin:/bin:/tools/node/bin:/tools/google-cloud-sdk/bin\n"
          ]
        }
      ]
    },
    {
      "cell_type": "markdown",
      "source": [
        "# **How to do a profile a python script.**"
      ],
      "metadata": {
        "id": "muC0cmBaV3uB"
      }
    },
    {
      "cell_type": "code",
      "source": [
        "import cProfile\n",
        "def sum ():\n",
        "    print(1,3)\n",
        "cProfile.run('sum()')\n"
      ],
      "metadata": {
        "colab": {
          "base_uri": "https://localhost:8080/"
        },
        "id": "qFsD5X7EVeQ2",
        "outputId": "b8696b57-98da-41a7-87ed-749900bcd270"
      },
      "execution_count": 13,
      "outputs": [
        {
          "output_type": "stream",
          "name": "stdout",
          "text": [
            "1 3\n",
            "         65 function calls in 0.001 seconds\n",
            "\n",
            "   Ordered by: standard name\n",
            "\n",
            "   ncalls  tottime  percall  cumtime  percall filename:lineno(function)\n",
            "        1    0.000    0.000    0.001    0.001 <ipython-input-13-f64663048751>:2(sum)\n",
            "        1    0.000    0.000    0.001    0.001 <string>:1(<module>)\n",
            "        5    0.000    0.000    0.001    0.000 iostream.py:197(schedule)\n",
            "        4    0.000    0.000    0.000    0.000 iostream.py:310(_is_master_process)\n",
            "        4    0.000    0.000    0.000    0.000 iostream.py:323(_schedule_flush)\n",
            "        4    0.000    0.000    0.001    0.000 iostream.py:386(write)\n",
            "        5    0.000    0.000    0.000    0.000 iostream.py:93(_event_pipe)\n",
            "        5    0.001    0.000    0.001    0.000 socket.py:543(send)\n",
            "        5    0.000    0.000    0.000    0.000 threading.py:1050(_wait_for_tstate_lock)\n",
            "        5    0.000    0.000    0.000    0.000 threading.py:1092(is_alive)\n",
            "        5    0.000    0.000    0.000    0.000 threading.py:507(is_set)\n",
            "        1    0.000    0.000    0.001    0.001 {built-in method builtins.exec}\n",
            "        4    0.000    0.000    0.000    0.000 {built-in method builtins.isinstance}\n",
            "        1    0.000    0.000    0.001    0.001 {built-in method builtins.print}\n",
            "        4    0.000    0.000    0.000    0.000 {built-in method posix.getpid}\n",
            "        5    0.000    0.000    0.000    0.000 {method 'acquire' of '_thread.lock' objects}\n",
            "        5    0.000    0.000    0.000    0.000 {method 'append' of 'collections.deque' objects}\n",
            "        1    0.000    0.000    0.000    0.000 {method 'disable' of '_lsprof.Profiler' objects}\n",
            "\n",
            "\n"
          ]
        }
      ]
    },
    {
      "cell_type": "markdown",
      "source": [
        "# **How to list all files of a Dictionary in python ?**\n"
      ],
      "metadata": {
        "id": "MY4mry2OWv99"
      }
    },
    {
      "cell_type": "code",
      "source": [
        "from os import listdir\n",
        "from os.path import isfile , join\n",
        "\n",
        "files_list = [f for  f in listdir('/home') if isfile (join('/home',f))]"
      ],
      "metadata": {
        "id": "4n0AYOwOWoBL"
      },
      "execution_count": 15,
      "outputs": []
    },
    {
      "cell_type": "markdown",
      "source": [
        "# **How to find out the version of python you are using ?**"
      ],
      "metadata": {
        "id": "B2Sar3NaYE8K"
      }
    },
    {
      "cell_type": "code",
      "source": [
        "import sys\n",
        "print('python Version')\n",
        "print(sys.version)\n",
        "print(sys.version_info)"
      ],
      "metadata": {
        "colab": {
          "base_uri": "https://localhost:8080/"
        },
        "id": "b46EN7JNXntu",
        "outputId": "7e0ec8da-5ad3-4ff3-a6cc-bcaf4c857ea1"
      },
      "execution_count": 17,
      "outputs": [
        {
          "output_type": "stream",
          "name": "stdout",
          "text": [
            "python Version\n",
            "3.7.14 (default, Sep  8 2022, 00:06:44) \n",
            "[GCC 7.5.0]\n",
            "sys.version_info(major=3, minor=7, micro=14, releaselevel='final', serial=0)\n"
          ]
        }
      ]
    },
    {
      "cell_type": "markdown",
      "source": [
        "# **How to print current date and time in python**"
      ],
      "metadata": {
        "id": "y00zo6WXY7Lc"
      }
    },
    {
      "cell_type": "code",
      "source": [
        "import datetime\n",
        "\n",
        "now = datetime.datetime.now()\n",
        "print('current date and time is:')\n",
        "print(now.strftime('%y-%m-%d %H:%M:%S'))\n"
      ],
      "metadata": {
        "colab": {
          "base_uri": "https://localhost:8080/"
        },
        "id": "0wBpLP2zYoi4",
        "outputId": "b2a24264-4e63-4d86-a56a-db7ce4a99932"
      },
      "execution_count": 19,
      "outputs": [
        {
          "output_type": "stream",
          "name": "stdout",
          "text": [
            "current date and time is:\n",
            "22-10-08 21:02:43\n"
          ]
        }
      ]
    },
    {
      "cell_type": "markdown",
      "source": [
        "# **How to find the area of a circle  in python?**"
      ],
      "metadata": {
        "id": "meyrqTVPaKK-"
      }
    },
    {
      "cell_type": "code",
      "source": [
        "from math import pi\n",
        "r=float(input('write the radious of the  circle'))\n",
        "print('the area of the circle is '+ str(r) + 'is:'+str(pi *r**2))"
      ],
      "metadata": {
        "colab": {
          "base_uri": "https://localhost:8080/"
        },
        "id": "NGcNoRlhZ-d0",
        "outputId": "2b1394d4-6690-4fd0-9c70-9d1a71fff452"
      },
      "execution_count": 21,
      "outputs": [
        {
          "output_type": "stream",
          "name": "stdout",
          "text": [
            "write the radious of the  circle6\n",
            "the area of the circle is 6.0is:113.09733552923255\n"
          ]
        }
      ]
    },
    {
      "cell_type": "code",
      "source": [],
      "metadata": {
        "id": "fJ1cm5XibOvU"
      },
      "execution_count": null,
      "outputs": []
    }
  ],
  "metadata": {
    "colab": {
      "provenance": [],
      "authorship_tag": "ABX9TyNYeD0XIom5WbFrd+r1ykZG",
      "include_colab_link": true
    },
    "kernelspec": {
      "display_name": "Python 3",
      "name": "python3"
    },
    "language_info": {
      "name": "python"
    }
  },
  "nbformat": 4,
  "nbformat_minor": 0
}
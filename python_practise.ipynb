{
  "cells": [
    {
      "cell_type": "markdown",
      "metadata": {
        "id": "view-in-github",
        "colab_type": "text"
      },
      "source": [
        "<a href=\"https://colab.research.google.com/github/143biswajit/PRACTISE-BASIC-CODING-PYTHON-/blob/main/python_practise.ipynb\" target=\"_parent\"><img src=\"https://colab.research.google.com/assets/colab-badge.svg\" alt=\"Open In Colab\"/></a>"
      ]
    },
    {
      "cell_type": "markdown",
      "metadata": {
        "id": "OY1LImcpEumW"
      },
      "source": [
        "**1. python program to find the  largest  among 3 number  enter by user.?**"
      ]
    },
    {
      "cell_type": "code",
      "execution_count": null,
      "metadata": {
        "colab": {
          "base_uri": "https://localhost:8080/"
        },
        "id": "ISrtFMxnCzOE",
        "outputId": "901e35a1-5039-474c-e8ed-717371fdb724"
      },
      "outputs": [
        {
          "name": "stdout",
          "output_type": "stream",
          "text": [
            "first number5\n",
            "sceond number7\n",
            "thired number10\n",
            "10 larger number\n"
          ]
        }
      ],
      "source": [
        "#Find Largest of Three Numbers using IF\n",
        "a=int(input('first number'))\n",
        "b=int(input('sceond number'))\n",
        "c=int(input('thired number'))\n",
        "larger=0\n",
        "if a>b and a>c :\n",
        "  larger=a\n",
        "elif b>c :\n",
        "  larger=b\n",
        "else:\n",
        "  larger=c\n",
        "print(larger,\"larger number\")\n"
      ]
    },
    {
      "cell_type": "code",
      "execution_count": null,
      "metadata": {
        "colab": {
          "base_uri": "https://localhost:8080/"
        },
        "id": "QLEyyPrWDltW",
        "outputId": "e15e82c4-c904-48cc-bc95-2fdad30441b1"
      },
      "outputs": [
        {
          "name": "stdout",
          "output_type": "stream",
          "text": [
            "first number45\n",
            "sceond number78\n",
            "thired number23\n",
            "78 larger number\n"
          ]
        }
      ],
      "source": [
        "#Find Largest of Three Numbers using IF-ELIF\n",
        "\n",
        "a= int(input('first number'))\n",
        "b= int(input('sceond number'))\n",
        "c=int(input('thired number'))\n",
        "larger=0\n",
        "if a>b and a>c:\n",
        "  larger=a\n",
        "if b>a and b>c:\n",
        "  larger=b\n",
        "if c>a and c>b:\n",
        "  larger=c\n",
        "print(larger,'larger number')"
      ]
    },
    {
      "cell_type": "markdown",
      "metadata": {
        "id": "lcR5hvwsEPx3"
      },
      "source": [
        " **2.Python program to convert temprature to fahrenheit ?**"
      ]
    },
    {
      "cell_type": "code",
      "execution_count": null,
      "metadata": {
        "colab": {
          "base_uri": "https://localhost:8080/"
        },
        "id": "guvagNxbEQeQ",
        "outputId": "935f0de8-3123-4801-81b3-f5141597b7f2"
      },
      "outputs": [
        {
          "name": "stdout",
          "output_type": "stream",
          "text": [
            "enter temprature in celcius70\n",
            "1292.0\n"
          ]
        }
      ],
      "source": [
        "temp=float(input('enter temprature in celcius'))\n",
        "fahrenheit=(temp*18)+32\n",
        "print(fahrenheit)"
      ]
    },
    {
      "cell_type": "markdown",
      "metadata": {
        "id": "Ix1mgZ3ELmAk"
      },
      "source": [
        "3. Swap two variable using  thried variable?"
      ]
    },
    {
      "cell_type": "code",
      "execution_count": null,
      "metadata": {
        "colab": {
          "base_uri": "https://localhost:8080/"
        },
        "id": "b5xPX39AEayY",
        "outputId": "8b97c5ef-dd05-4f16-84e2-3da88c7ad9bd"
      },
      "outputs": [
        {
          "name": "stdout",
          "output_type": "stream",
          "text": [
            "enter ur 1st number555\n",
            "enter ur 2nd number333\n",
            "value of a 333\n",
            "value of b 555\n"
          ]
        }
      ],
      "source": [
        "a=int(input('enter ur 1st number'))\n",
        "b=int(input('enter ur 2nd number'))\n",
        "c=a\n",
        "a=b\n",
        "b=c\n",
        "print('value of a', a)\n",
        "print('value of b', b)"
      ]
    },
    {
      "cell_type": "markdown",
      "metadata": {
        "id": "Idu0x1HPM1o1"
      },
      "source": [
        "4. Python code to add  the digits "
      ]
    },
    {
      "cell_type": "code",
      "execution_count": null,
      "metadata": {
        "colab": {
          "base_uri": "https://localhost:8080/"
        },
        "id": "UZc4-rqvLePZ",
        "outputId": "750d13b7-ef77-422e-ee29-5e75979831c9"
      },
      "outputs": [
        {
          "name": "stdout",
          "output_type": "stream",
          "text": [
            "enter ur three digits number567\n",
            "18\n"
          ]
        }
      ],
      "source": [
        "num=int(input('enter ur three digits number'))\n",
        "\n",
        "a=num % 10\n",
        "num= num//10\n",
        "b=num%10\n",
        "c=num//10\n",
        "addd= (a+b+c)\n",
        "print(addd)"
      ]
    },
    {
      "cell_type": "markdown",
      "metadata": {
        "id": "2KOL4GfMXY-a"
      },
      "source": [
        "5. Reversed  digits  using python.\n",
        "\n",
        "\n",
        "\n"
      ]
    },
    {
      "cell_type": "code",
      "execution_count": null,
      "metadata": {
        "id": "W9865sjZbGl2"
      },
      "outputs": [],
      "source": [
        "\n",
        "\n",
        "#cheak\n",
        "\n",
        "\n",
        "user=int(input([]))"
      ]
    },
    {
      "cell_type": "code",
      "execution_count": null,
      "metadata": {
        "colab": {
          "base_uri": "https://localhost:8080/"
        },
        "id": "MUrDjJuLXBZf",
        "outputId": "682ba60c-8756-445d-d805-330d689ad9ba"
      },
      "outputs": [
        {
          "name": "stdout",
          "output_type": "stream",
          "text": [
            "enter ur four digit number5689\n",
            "original number 5689\n",
            "reverse num 9865\n",
            "False\n",
            "9865\n"
          ]
        }
      ],
      "source": [
        "user = int(input('enter ur four digit number'))\n",
        "num = user\n",
        "a= num % 10\n",
        "num = num //10\n",
        " \n",
        "b= num % 10\n",
        "num= num // 10\n",
        "\n",
        "c= num % 10\n",
        "d = num // 10\n",
        "# formula\n",
        "rev = 1000 *a + 100*b +10*c+d\n",
        "print('original number',user)\n",
        "print('reverse num',rev)\n",
        "\n",
        "# cheak\n",
        "if user == rev:\n",
        "  print('True')\n",
        "else:\n",
        "  print('False')\n",
        "\n",
        "print(rev)\n",
        "\n",
        "\n",
        "\n",
        "\n"
      ]
    },
    {
      "cell_type": "code",
      "execution_count": null,
      "metadata": {
        "id": "xHRCnac-5-UW"
      },
      "outputs": [],
      "source": []
    },
    {
      "cell_type": "markdown",
      "metadata": {
        "id": "tnca75hJ_mXT"
      },
      "source": [
        "6.Python program  to cheak if a number is even or odd."
      ]
    },
    {
      "cell_type": "code",
      "execution_count": null,
      "metadata": {
        "colab": {
          "base_uri": "https://localhost:8080/"
        },
        "id": "5h3c_Tsa_1CV",
        "outputId": "8f921c56-c1ee-4c2b-8be2-91ed6242b8f7"
      },
      "outputs": [
        {
          "name": "stdout",
          "output_type": "stream",
          "text": [
            "enter ur number67\n",
            "odd\n"
          ]
        }
      ],
      "source": [
        "user=int(input('enter ur number'))\n",
        "if user % 2==0:\n",
        "  print('even')\n",
        "else:\n",
        "  print('odd')"
      ]
    },
    {
      "cell_type": "code",
      "execution_count": null,
      "metadata": {
        "colab": {
          "base_uri": "https://localhost:8080/"
        },
        "id": "u09RYrs1ASQP",
        "outputId": "d4d2b0db-e308-4323-bd01-26aa61c563ad"
      },
      "outputs": [
        {
          "data": {
            "text/plain": [
              "8"
            ]
          },
          "execution_count": 11,
          "metadata": {},
          "output_type": "execute_result"
        }
      ],
      "source": [
        "5678%10\n"
      ]
    },
    {
      "cell_type": "code",
      "execution_count": null,
      "metadata": {
        "id": "rinawltABh_X"
      },
      "outputs": [],
      "source": []
    },
    {
      "cell_type": "markdown",
      "metadata": {
        "id": "e06fHwjtD1Tr"
      },
      "source": [
        "7. Leap year program "
      ]
    },
    {
      "cell_type": "code",
      "execution_count": null,
      "metadata": {
        "colab": {
          "base_uri": "https://localhost:8080/"
        },
        "id": "emh1JPBRD_Fa",
        "outputId": "cb844df4-58e0-4ec8-b96c-72afa4c21de0"
      },
      "outputs": [
        {
          "name": "stdout",
          "output_type": "stream",
          "text": [
            "enter ur year1956\n",
            "leap year\n"
          ]
        }
      ],
      "source": [
        "year= int(input('enter ur year'))\n",
        "if year%4 == 0:\n",
        "  print('leap year')\n",
        "else:\n",
        "  print('not a leap year')"
      ]
    },
    {
      "cell_type": "code",
      "execution_count": null,
      "metadata": {
        "id": "A0bVPSvJHBS2"
      },
      "outputs": [],
      "source": []
    },
    {
      "cell_type": "markdown",
      "metadata": {
        "id": "s_B6F3ENHmg8"
      },
      "source": [
        "8. Python programing  ti find the euclidean distance."
      ]
    },
    {
      "cell_type": "code",
      "execution_count": null,
      "metadata": {
        "colab": {
          "base_uri": "https://localhost:8080/"
        },
        "id": "MmwOZI58Hzfj",
        "outputId": "ad41d537-19d3-499f-bf5d-f7d2b6be9c4c"
      },
      "outputs": [
        {
          "name": "stdout",
          "output_type": "stream",
          "text": [
            "enter x_1 of x co ordinate45\n",
            "enter y_1 of y co ordinate67\n",
            "enter x_2 of x co ordinate23\n",
            "enter y_2 of y co ordinate78\n",
            "24.596747752497688\n"
          ]
        }
      ],
      "source": [
        "x_1 =float(input('enter x_1 of x co ordinate'))\n",
        "y_1= float(input('enter y_1 of y co ordinate'))\n",
        "x_2= float(input('enter x_2 of x co ordinate'))\n",
        "y_2= float(input('enter y_2 of y co ordinate'))\n",
        "\n",
        "d=((x_2 -x_1)**2 +(y_2 - y_1)**2)**0.5\n",
        "print(d)\n"
      ]
    },
    {
      "cell_type": "markdown",
      "metadata": {
        "id": "-fOpmMY_LPW6"
      },
      "source": [
        "9.Python  program to cheak  if the given 3 angles  can  from  a triangle or not"
      ]
    },
    {
      "cell_type": "code",
      "execution_count": null,
      "metadata": {
        "colab": {
          "base_uri": "https://localhost:8080/"
        },
        "id": "5PfQGjOvKtjA",
        "outputId": "850324b1-2b4c-41f5-bf5e-d574a08ac8d5"
      },
      "outputs": [
        {
          "name": "stdout",
          "output_type": "stream",
          "text": [
            "enter 1st angle60\n",
            "enter 2nd angle60\n",
            "enter 3rd angle60\n",
            "posiable\n"
          ]
        }
      ],
      "source": [
        "a=int(input('enter 1st angle'))\n",
        "b=int(input('enter 2nd angle'))\n",
        "c= int(input('enter 3rd angle'))\n",
        "\n",
        "if a+b+c==180 and a!=0 and b!=0 and c!=0:\n",
        "  print('posiable')\n",
        "else:\n",
        "  print('not posiable')\n",
        "  "
      ]
    },
    {
      "cell_type": "markdown",
      "metadata": {
        "id": "aE7o0eHrMvqY"
      },
      "source": [
        "10. python program  to  calculate profit or  loss for  given  seling and cost price."
      ]
    },
    {
      "cell_type": "code",
      "execution_count": null,
      "metadata": {
        "colab": {
          "base_uri": "https://localhost:8080/"
        },
        "id": "VO87LIxvNEG0",
        "outputId": "e2536e8a-f2ba-4ba9-d925-0682c523921b"
      },
      "outputs": [
        {
          "name": "stdout",
          "output_type": "stream",
          "text": [
            "enter ur cost price100\n",
            "enter ur selling price150\n",
            "profit: 50.0\n"
          ]
        }
      ],
      "source": [
        "cp = float(input('enter ur cost price'))\n",
        "sp = float(input('enter ur selling price'))\n",
        "\n",
        "if cp > sp:\n",
        "  amount = cp-sp\n",
        "  print('loss:',amount)\n",
        "else:\n",
        "  amount = sp-cp\n",
        "  print('profit:',amount)\n",
        "  "
      ]
    },
    {
      "cell_type": "code",
      "execution_count": null,
      "metadata": {
        "id": "i6vgpJZBN8kg"
      },
      "outputs": [],
      "source": [
        " "
      ]
    },
    {
      "cell_type": "markdown",
      "metadata": {
        "id": "2cnV7sWNRMN3"
      },
      "source": [
        "11. python program to calculate  simple intrest."
      ]
    },
    {
      "cell_type": "code",
      "execution_count": null,
      "metadata": {
        "id": "pehWgE84RakW"
      },
      "outputs": [],
      "source": [
        "p= int(input('enter ur principal'))\n",
        "r= int(input('enter ur rate of intrest'))\n",
        "t= int(input('enter ur time period in year'))\n",
        "\n",
        "si =(p*r*t)/100\n",
        "print('your simple intrest is ',si)\n",
        "a=p+si\n",
        "print('your amount is',a)\n",
        "\n"
      ]
    },
    {
      "cell_type": "code",
      "execution_count": null,
      "metadata": {
        "id": "1hLVVBUnS_me"
      },
      "outputs": [],
      "source": [
        "p= int(input('enter ur principal'))\n",
        "r= int(input('enter ur rate of intrest'))\n",
        "t= int(input('enter ur time period in year'))\n",
        "\n",
        "si =(p*r*t)/100\n",
        "print('your simple intrest is ',si)\n",
        "a=p+si\n",
        "print('your amount is',a)"
      ]
    },
    {
      "cell_type": "markdown",
      "metadata": {
        "id": "nKZV4I2vEML8"
      },
      "source": [
        "**12. valume of cylinder ?**"
      ]
    },
    {
      "cell_type": "code",
      "source": [
        "r=float(input('enter radius of cylinder'))\n",
        "h=float(input('enter height of cylinder'))\n",
        "\n",
        "v=3.14*(r**2)*h\n",
        "print('your valume is',v)\n",
        "cost = v/1000 *40\n",
        "print('your cost is',cost)"
      ],
      "metadata": {
        "colab": {
          "base_uri": "https://localhost:8080/"
        },
        "id": "8h8kBlWu4CBA",
        "outputId": "4d136dfe-48bb-40e1-a9de-7a0b6c43b8bc"
      },
      "execution_count": 1,
      "outputs": [
        {
          "output_type": "stream",
          "name": "stdout",
          "text": [
            "enter radius of cylinder6\n",
            "enter height of cylinder12\n",
            "your valume is 1356.48\n",
            "your cost is 54.25919999999999\n"
          ]
        }
      ]
    },
    {
      "cell_type": "markdown",
      "source": [
        "**13. python program to cheak if a given number is divisable by both 3 and 6 .**"
      ],
      "metadata": {
        "id": "TlJCk1tY4M6B"
      }
    },
    {
      "cell_type": "code",
      "source": [
        "digit=int(input('enter ur number'))\n",
        "\n",
        "if digit % 3 == 0 and digit % 6 == 0:\n",
        "  print('divisiable by 3 and 6',digit)\n",
        "else:\n",
        "  print('not divisiable by 3 and 6',digit)"
      ],
      "metadata": {
        "colab": {
          "base_uri": "https://localhost:8080/"
        },
        "id": "dcmr4DTF4Yq2",
        "outputId": "57e89d46-04f4-42cb-bb4d-1a09d1be824a"
      },
      "execution_count": 2,
      "outputs": [
        {
          "output_type": "stream",
          "name": "stdout",
          "text": [
            "enter ur number56\n",
            "not divisiable by 3 and 6 56\n"
          ]
        }
      ]
    },
    {
      "cell_type": "markdown",
      "source": [
        "**14.Determine wheather type ?**"
      ],
      "metadata": {
        "id": "lIDNiAPz4igP"
      }
    },
    {
      "cell_type": "code",
      "source": [
        "temp = int(input('enter temprature in celcius'))\n",
        "humid= int(input('enter humidity percentage'))\n",
        "if temp >=30 and humid >=90:\n",
        "  print('hot and humid')\n",
        "elif temp >=30 and humid <90:\n",
        "  print('cold and humid')\n",
        "else:\n",
        "  print('cold')"
      ],
      "metadata": {
        "colab": {
          "base_uri": "https://localhost:8080/"
        },
        "id": "zYXrmPIc4ZiM",
        "outputId": "974e414e-e35d-4e1f-fb87-c3dfc3ded016"
      },
      "execution_count": 3,
      "outputs": [
        {
          "output_type": "stream",
          "name": "stdout",
          "text": [
            "enter temprature in celcius35\n",
            "enter humidity percentage90\n",
            "hot and humid\n"
          ]
        }
      ]
    },
    {
      "cell_type": "markdown",
      "source": [
        "**15.Python program to find the sum off the square of a given number?**\n",
        "\n"
      ],
      "metadata": {
        "id": "Q0M_ZKLV42AA"
      }
    },
    {
      "cell_type": "code",
      "source": [
        "num= int (input('enter ur  number'))\n",
        "a= num %10\n",
        "num = num// 10\n",
        "b=num%10\n",
        "c=num//10\n",
        "sum=a**2+b**2+c**2\n",
        "print('required number is ',sum)\n"
      ],
      "metadata": {
        "colab": {
          "base_uri": "https://localhost:8080/"
        },
        "id": "lHQme5634phB",
        "outputId": "c8f7b072-2b65-49cf-ceaa-c2fc5b7c100b"
      },
      "execution_count": 4,
      "outputs": [
        {
          "output_type": "stream",
          "name": "stdout",
          "text": [
            "enter ur  number456\n",
            "required number is  77\n"
          ]
        }
      ]
    },
    {
      "cell_type": "markdown",
      "source": [
        "**16 . python program to cheak if a given number is armstrong number or not ?**\n",
        "\n"
      ],
      "metadata": {
        "id": "FZj1q_CS5HOK"
      }
    },
    {
      "cell_type": "code",
      "source": [
        "user_input=int(input('enter ur number'))\n",
        "num= user_input\n",
        "a= num % 10\n",
        "num = num // 10\n",
        "b=num%10\n",
        "c=num//10\n",
        "\n",
        "\n",
        "if (a**3)+(b**3)+(c**3)==user_input:\n",
        "  print('number is armstrong number')\n",
        "else:\n",
        "  print('not armstrong number')"
      ],
      "metadata": {
        "colab": {
          "base_uri": "https://localhost:8080/"
        },
        "id": "aLODBX9j4-6R",
        "outputId": "fd684130-e5ae-44e0-e481-c51ce76dfa5d"
      },
      "execution_count": 5,
      "outputs": [
        {
          "output_type": "stream",
          "name": "stdout",
          "text": [
            "enter ur number457\n",
            "not armstrong number\n"
          ]
        }
      ]
    },
    {
      "cell_type": "markdown",
      "source": [
        "**17. Narcissictic number**"
      ],
      "metadata": {
        "id": "BCGJCDGe5VqK"
      }
    },
    {
      "cell_type": "code",
      "source": [
        "user_input=int(input('enter a four digits number'))\n",
        "num= user_input\n",
        "\n",
        "a=num % 10\n",
        "num=num // 10\n",
        "b=num % 10\n",
        "num = num // 10\n",
        "c=num % 10\n",
        "d=num // 10\n",
        "\n",
        "if (a**4 )+(b**4)+(c**4)+(d**4) ==user_input:\n",
        "    print('narcissictic number') \n",
        "else:\n",
        "    print('not a narcissictic number')\n"
      ],
      "metadata": {
        "colab": {
          "base_uri": "https://localhost:8080/"
        },
        "id": "2b4Q4pBh5SCa",
        "outputId": "db2561f1-9c18-4d9b-bf95-b3ffc97280a9"
      },
      "execution_count": 7,
      "outputs": [
        {
          "output_type": "stream",
          "name": "stdout",
          "text": [
            "enter a four digits number4578\n",
            "not a narcissictic number\n"
          ]
        }
      ]
    },
    {
      "cell_type": "code",
      "source": [],
      "metadata": {
        "id": "d2TWhQtyAotZ"
      },
      "execution_count": null,
      "outputs": []
    },
    {
      "cell_type": "markdown",
      "source": [
        "**18. how to  swap two number in python ?**\n"
      ],
      "metadata": {
        "id": "JPI_345nBDj7"
      }
    },
    {
      "cell_type": "code",
      "source": [
        "a=int(input('enter ur 1st number'))\n",
        "b=int(input('enter ur 2nd number'))\n",
        "a=a +b\n",
        "b=a-b\n",
        "a=a-b\n",
        "print('after swaping ')\n",
        "print('ur a is',a)\n",
        "print('ur b is',b)\n",
        "\n"
      ],
      "metadata": {
        "colab": {
          "base_uri": "https://localhost:8080/"
        },
        "id": "w9jCEqhDBYKi",
        "outputId": "5569ef94-7233-498d-84b4-d3f77b4ca549"
      },
      "execution_count": 8,
      "outputs": [
        {
          "output_type": "stream",
          "name": "stdout",
          "text": [
            "enter ur 1st number9\n",
            "enter ur 2nd number3\n",
            "after swaping \n",
            "ur a is 3\n",
            "ur b is 9\n"
          ]
        }
      ]
    },
    {
      "cell_type": "code",
      "source": [],
      "metadata": {
        "id": "vTr9ZUTsCuL7"
      },
      "execution_count": null,
      "outputs": []
    },
    {
      "cell_type": "markdown",
      "source": [
        "**20. python program  to print the some of sum of first  n number ?**"
      ],
      "metadata": {
        "id": "BYfgD9vIDFn5"
      }
    },
    {
      "cell_type": "code",
      "source": [
        "n"
      ],
      "metadata": {
        "id": "T3BviRlKDt4S"
      },
      "execution_count": null,
      "outputs": []
    },
    {
      "cell_type": "markdown",
      "source": [
        "20. python program  to multiply  two number  without  using the '*' operator ? **bold text**"
      ],
      "metadata": {
        "id": "UZXZ6VpyDa9f"
      }
    }
  ],
  "metadata": {
    "colab": {
      "provenance": [],
      "authorship_tag": "ABX9TyOMpwrfycPOXSW22j0Kjo/o",
      "include_colab_link": true
    },
    "kernelspec": {
      "display_name": "Python 3",
      "name": "python3"
    },
    "language_info": {
      "name": "python"
    }
  },
  "nbformat": 4,
  "nbformat_minor": 0
}
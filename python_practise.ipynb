{
  "nbformat": 4,
  "nbformat_minor": 0,
  "metadata": {
    "colab": {
      "provenance": [],
      "authorship_tag": "ABX9TyNRbwTqU1gPThIOke2g7PKh",
      "include_colab_link": true
    },
    "kernelspec": {
      "name": "python3",
      "display_name": "Python 3"
    },
    "language_info": {
      "name": "python"
    }
  },
  "cells": [
    {
      "cell_type": "markdown",
      "metadata": {
        "id": "view-in-github",
        "colab_type": "text"
      },
      "source": [
        "<a href=\"https://colab.research.google.com/github/143biswajit/PRACTISE-BASIC-CODING-PYTHON-/blob/main/python_practise.ipynb\" target=\"_parent\"><img src=\"https://colab.research.google.com/assets/colab-badge.svg\" alt=\"Open In Colab\"/></a>"
      ]
    },
    {
      "cell_type": "markdown",
      "source": [
        "**1. python program to find the  largest  among 3 number  enter by user.?**"
      ],
      "metadata": {
        "id": "OY1LImcpEumW"
      }
    },
    {
      "cell_type": "code",
      "execution_count": null,
      "metadata": {
        "colab": {
          "base_uri": "https://localhost:8080/"
        },
        "id": "ISrtFMxnCzOE",
        "outputId": "901e35a1-5039-474c-e8ed-717371fdb724"
      },
      "outputs": [
        {
          "output_type": "stream",
          "name": "stdout",
          "text": [
            "first number5\n",
            "sceond number7\n",
            "thired number10\n",
            "10 larger number\n"
          ]
        }
      ],
      "source": [
        "#Find Largest of Three Numbers using IF\n",
        "a=int(input('first number'))\n",
        "b=int(input('sceond number'))\n",
        "c=int(input('thired number'))\n",
        "larger=0\n",
        "if a>b and a>c :\n",
        "  larger=a\n",
        "elif b>c :\n",
        "  larger=b\n",
        "else:\n",
        "  larger=c\n",
        "print(larger,\"larger number\")\n"
      ]
    },
    {
      "cell_type": "code",
      "source": [
        "#Find Largest of Three Numbers using IF-ELIF\n",
        "\n",
        "a= int(input('first number'))\n",
        "b= int(input('sceond number'))\n",
        "c=int(input('thired number'))\n",
        "larger=0\n",
        "if a>b and a>c:\n",
        "  larger=a\n",
        "if b>a and b>c:\n",
        "  larger=b\n",
        "if c>a and c>b:\n",
        "  larger=c\n",
        "print(larger,'larger number')"
      ],
      "metadata": {
        "colab": {
          "base_uri": "https://localhost:8080/"
        },
        "id": "QLEyyPrWDltW",
        "outputId": "e15e82c4-c904-48cc-bc95-2fdad30441b1"
      },
      "execution_count": null,
      "outputs": [
        {
          "output_type": "stream",
          "name": "stdout",
          "text": [
            "first number45\n",
            "sceond number78\n",
            "thired number23\n",
            "78 larger number\n"
          ]
        }
      ]
    },
    {
      "cell_type": "markdown",
      "source": [
        " **2.Python program to convert temprature to fahrenheit ?**"
      ],
      "metadata": {
        "id": "lcR5hvwsEPx3"
      }
    },
    {
      "cell_type": "code",
      "source": [
        "temp=float(input('enter temprature in celcius'))\n",
        "fahrenheit=(temp*18)+32\n",
        "print(fahrenheit)"
      ],
      "metadata": {
        "colab": {
          "base_uri": "https://localhost:8080/"
        },
        "id": "guvagNxbEQeQ",
        "outputId": "935f0de8-3123-4801-81b3-f5141597b7f2"
      },
      "execution_count": null,
      "outputs": [
        {
          "output_type": "stream",
          "name": "stdout",
          "text": [
            "enter temprature in celcius70\n",
            "1292.0\n"
          ]
        }
      ]
    },
    {
      "cell_type": "markdown",
      "source": [
        "3. Swap two variable using  thried variable?"
      ],
      "metadata": {
        "id": "Ix1mgZ3ELmAk"
      }
    },
    {
      "cell_type": "code",
      "source": [
        "a=int(input('enter ur 1st number'))\n",
        "b=int(input('enter ur 2nd number'))\n",
        "c=a\n",
        "a=b\n",
        "b=c\n",
        "print('value of a', a)\n",
        "print('value of b', b)"
      ],
      "metadata": {
        "colab": {
          "base_uri": "https://localhost:8080/"
        },
        "id": "b5xPX39AEayY",
        "outputId": "8b97c5ef-dd05-4f16-84e2-3da88c7ad9bd"
      },
      "execution_count": null,
      "outputs": [
        {
          "output_type": "stream",
          "name": "stdout",
          "text": [
            "enter ur 1st number555\n",
            "enter ur 2nd number333\n",
            "value of a 333\n",
            "value of b 555\n"
          ]
        }
      ]
    },
    {
      "cell_type": "markdown",
      "source": [
        "4. Python code to add  the digits "
      ],
      "metadata": {
        "id": "Idu0x1HPM1o1"
      }
    },
    {
      "cell_type": "code",
      "source": [
        "num=int(input('enter ur three digits number'))\n",
        "\n",
        "a=num % 10\n",
        "num= num//10\n",
        "b=num%10\n",
        "c=num//10\n",
        "addd= (a+b+c)\n",
        "print(addd)"
      ],
      "metadata": {
        "colab": {
          "base_uri": "https://localhost:8080/"
        },
        "id": "UZc4-rqvLePZ",
        "outputId": "750d13b7-ef77-422e-ee29-5e75979831c9"
      },
      "execution_count": null,
      "outputs": [
        {
          "output_type": "stream",
          "name": "stdout",
          "text": [
            "enter ur three digits number567\n",
            "18\n"
          ]
        }
      ]
    },
    {
      "cell_type": "markdown",
      "source": [
        "5. Reversed  digits  using python.\n",
        "\n",
        "\n",
        "\n"
      ],
      "metadata": {
        "id": "2KOL4GfMXY-a"
      }
    },
    {
      "cell_type": "code",
      "source": [
        "\n",
        "\n",
        "#cheak\n",
        "\n",
        "\n",
        "user=int(input([]))"
      ],
      "metadata": {
        "id": "W9865sjZbGl2"
      },
      "execution_count": null,
      "outputs": []
    },
    {
      "cell_type": "code",
      "source": [
        "user = int(input('enter ur four digit number'))\n",
        "num = user\n",
        "a= num % 10\n",
        "num = num //10\n",
        " \n",
        "b= num % 10\n",
        "num= num // 10\n",
        "\n",
        "c= num % 10\n",
        "d = num // 10\n",
        "# formula\n",
        "rev = 1000 *a + 100*b +10*c+d\n",
        "print('original number',user)\n",
        "print('reverse num',rev)\n",
        "\n",
        "# cheak\n",
        "if user == rev:\n",
        "  print('True')\n",
        "else:\n",
        "  print('False')\n",
        "\n",
        "print(rev)\n",
        "\n",
        "\n",
        "\n",
        "\n"
      ],
      "metadata": {
        "id": "MUrDjJuLXBZf",
        "colab": {
          "base_uri": "https://localhost:8080/"
        },
        "outputId": "682ba60c-8756-445d-d805-330d689ad9ba"
      },
      "execution_count": null,
      "outputs": [
        {
          "output_type": "stream",
          "name": "stdout",
          "text": [
            "enter ur four digit number5689\n",
            "original number 5689\n",
            "reverse num 9865\n",
            "False\n",
            "9865\n"
          ]
        }
      ]
    },
    {
      "cell_type": "code",
      "source": [],
      "metadata": {
        "id": "xHRCnac-5-UW"
      },
      "execution_count": null,
      "outputs": []
    },
    {
      "cell_type": "markdown",
      "source": [
        "6.Python program  to cheak if a number is even or odd."
      ],
      "metadata": {
        "id": "tnca75hJ_mXT"
      }
    },
    {
      "cell_type": "code",
      "source": [
        "user=int(input('enter ur number'))\n",
        "if user % 2==0:\n",
        "  print('even')\n",
        "else:\n",
        "  print('odd')"
      ],
      "metadata": {
        "colab": {
          "base_uri": "https://localhost:8080/"
        },
        "id": "5h3c_Tsa_1CV",
        "outputId": "8f921c56-c1ee-4c2b-8be2-91ed6242b8f7"
      },
      "execution_count": null,
      "outputs": [
        {
          "output_type": "stream",
          "name": "stdout",
          "text": [
            "enter ur number67\n",
            "odd\n"
          ]
        }
      ]
    },
    {
      "cell_type": "code",
      "source": [
        "5678%10\n"
      ],
      "metadata": {
        "colab": {
          "base_uri": "https://localhost:8080/"
        },
        "id": "u09RYrs1ASQP",
        "outputId": "d4d2b0db-e308-4323-bd01-26aa61c563ad"
      },
      "execution_count": null,
      "outputs": [
        {
          "output_type": "execute_result",
          "data": {
            "text/plain": [
              "8"
            ]
          },
          "metadata": {},
          "execution_count": 11
        }
      ]
    },
    {
      "cell_type": "code",
      "source": [],
      "metadata": {
        "id": "rinawltABh_X"
      },
      "execution_count": null,
      "outputs": []
    },
    {
      "cell_type": "markdown",
      "source": [
        "7. Leap year program "
      ],
      "metadata": {
        "id": "e06fHwjtD1Tr"
      }
    },
    {
      "cell_type": "code",
      "source": [
        "year= int(input('enter ur year'))\n",
        "if year%4 == 0:\n",
        "  print('leap year')\n",
        "else:\n",
        "  print('not a leap year')"
      ],
      "metadata": {
        "colab": {
          "base_uri": "https://localhost:8080/"
        },
        "id": "emh1JPBRD_Fa",
        "outputId": "cb844df4-58e0-4ec8-b96c-72afa4c21de0"
      },
      "execution_count": null,
      "outputs": [
        {
          "output_type": "stream",
          "name": "stdout",
          "text": [
            "enter ur year1956\n",
            "leap year\n"
          ]
        }
      ]
    },
    {
      "cell_type": "code",
      "source": [],
      "metadata": {
        "id": "A0bVPSvJHBS2"
      },
      "execution_count": null,
      "outputs": []
    },
    {
      "cell_type": "markdown",
      "source": [
        "8. Python programing  ti find the euclidean distance."
      ],
      "metadata": {
        "id": "s_B6F3ENHmg8"
      }
    },
    {
      "cell_type": "code",
      "source": [
        "x_1 =float(input('enter x_1 of x co ordinate'))\n",
        "y_1= float(input('enter y_1 of y co ordinate'))\n",
        "x_2= float(input('enter x_2 of x co ordinate'))\n",
        "y_2= float(input('enter y_2 of y co ordinate'))\n",
        "\n",
        "d=((x_2 -x_1)**2 +(y_2 - y_1)**2)**0.5\n",
        "print(d)\n"
      ],
      "metadata": {
        "colab": {
          "base_uri": "https://localhost:8080/"
        },
        "id": "MmwOZI58Hzfj",
        "outputId": "ad41d537-19d3-499f-bf5d-f7d2b6be9c4c"
      },
      "execution_count": null,
      "outputs": [
        {
          "output_type": "stream",
          "name": "stdout",
          "text": [
            "enter x_1 of x co ordinate45\n",
            "enter y_1 of y co ordinate67\n",
            "enter x_2 of x co ordinate23\n",
            "enter y_2 of y co ordinate78\n",
            "24.596747752497688\n"
          ]
        }
      ]
    },
    {
      "cell_type": "markdown",
      "source": [
        "9.Python  program to cheak  if the given 3 angles  can  from  a triangle or not"
      ],
      "metadata": {
        "id": "-fOpmMY_LPW6"
      }
    },
    {
      "cell_type": "code",
      "source": [
        "a=int(input('enter 1st angle'))\n",
        "b=int(input('enter 2nd angle'))\n",
        "c= int(input('enter 3rd angle'))\n",
        "\n",
        "if a+b+c==180 and a!=0 and b!=0 and c!=0:\n",
        "  print('posiable')\n",
        "else:\n",
        "  print('not posiable')\n",
        "  "
      ],
      "metadata": {
        "colab": {
          "base_uri": "https://localhost:8080/"
        },
        "id": "5PfQGjOvKtjA",
        "outputId": "850324b1-2b4c-41f5-bf5e-d574a08ac8d5"
      },
      "execution_count": null,
      "outputs": [
        {
          "output_type": "stream",
          "name": "stdout",
          "text": [
            "enter 1st angle60\n",
            "enter 2nd angle60\n",
            "enter 3rd angle60\n",
            "posiable\n"
          ]
        }
      ]
    },
    {
      "cell_type": "markdown",
      "source": [
        "10. python program  to  calculate profit or  loss for  given  seling and cost price."
      ],
      "metadata": {
        "id": "aE7o0eHrMvqY"
      }
    },
    {
      "cell_type": "code",
      "source": [
        "cp = float(input('enter ur cost price'))\n",
        "sp = float(input('enter ur selling price'))\n",
        "\n",
        "if cp > sp:\n",
        "  amount = cp-sp\n",
        "  print('loss:',amount)\n",
        "else:\n",
        "  amount = sp-cp\n",
        "  print('profit:',amount)\n",
        "  "
      ],
      "metadata": {
        "colab": {
          "base_uri": "https://localhost:8080/"
        },
        "id": "VO87LIxvNEG0",
        "outputId": "e2536e8a-f2ba-4ba9-d925-0682c523921b"
      },
      "execution_count": null,
      "outputs": [
        {
          "output_type": "stream",
          "name": "stdout",
          "text": [
            "enter ur cost price100\n",
            "enter ur selling price150\n",
            "profit: 50.0\n"
          ]
        }
      ]
    },
    {
      "cell_type": "code",
      "source": [
        " "
      ],
      "metadata": {
        "id": "i6vgpJZBN8kg"
      },
      "execution_count": null,
      "outputs": []
    },
    {
      "cell_type": "markdown",
      "source": [
        "11. python program to calculate  simple intrest."
      ],
      "metadata": {
        "id": "2cnV7sWNRMN3"
      }
    },
    {
      "cell_type": "code",
      "source": [
        "p= int(input('enter ur principal'))\n",
        "r= int(input('enter ur rate of intrest'))\n",
        "t= int(input('enter ur time period in year'))\n",
        "\n",
        "si =(p*r*t)/100\n",
        "print('your simple intrest is ',si)\n",
        "a=p+si\n",
        "print('your amount is',a)\n",
        "\n"
      ],
      "metadata": {
        "id": "pehWgE84RakW"
      },
      "execution_count": null,
      "outputs": []
    },
    {
      "cell_type": "code",
      "source": [
        "p= int(input('enter ur principal'))\n",
        "r= int(input('enter ur rate of intrest'))\n",
        "t= int(input('enter ur time period in year'))\n",
        "\n",
        "si =(p*r*t)/100\n",
        "print('your simple intrest is ',si)\n",
        "a=p+si\n",
        "print('your amount is',a)"
      ],
      "metadata": {
        "id": "1hLVVBUnS_me"
      },
      "execution_count": null,
      "outputs": []
    },
    {
      "cell_type": "markdown",
      "source": [
        "**12. valume of cylinder ?**"
      ],
      "metadata": {
        "id": "nKZV4I2vEML8"
      }
    },
    {
      "cell_type": "code",
      "source": [
        "r=float(input('enter radius of cylinder'))\n",
        "h=float(input('enter height of cylinder'))\n",
        "\n",
        "v=3.14*(r**2)*h\n",
        "print('your valume is',v)\n",
        "cost = v/1000 *40\n",
        "print('your cost is',cost)"
      ],
      "metadata": {
        "colab": {
          "base_uri": "https://localhost:8080/"
        },
        "id": "Efc0356LFb0P",
        "outputId": "2fc8b559-6e2e-4b4a-bb7b-ae3e59ba47b2"
      },
      "execution_count": 5,
      "outputs": [
        {
          "output_type": "stream",
          "name": "stdout",
          "text": [
            "enter radius of cylinder9\n",
            "enter height of cylinder15\n",
            "your valume is 3815.1\n",
            "your cost is 152.60399999999998\n"
          ]
        }
      ]
    },
    {
      "cell_type": "markdown",
      "source": [
        "**13. python program to cheak if a given number is divisable by both 3 and 6 .**"
      ],
      "metadata": {
        "id": "qqKDsnv2HAE6"
      }
    },
    {
      "cell_type": "code",
      "source": [
        "digit=int(input('enter ur number'))\n",
        "\n",
        "if digit % 3 == 0 and digit % 6 == 0:\n",
        "  print('divisiable by 3 and 6',digit)\n",
        "else:\n",
        "  print('not divisiable by 3 and 6',digit)"
      ],
      "metadata": {
        "id": "wVS0SVK6H6xT",
        "outputId": "0b150932-bfc8-43b2-df1b-6a6e2ecb3440",
        "colab": {
          "base_uri": "https://localhost:8080/"
        }
      },
      "execution_count": 6,
      "outputs": [
        {
          "output_type": "stream",
          "name": "stdout",
          "text": [
            "enter ur number60\n",
            "divisiable by 3 and 6 60\n"
          ]
        }
      ]
    },
    {
      "cell_type": "code",
      "source": [],
      "metadata": {
        "id": "PQQsFKfVJfDB"
      },
      "execution_count": null,
      "outputs": []
    },
    {
      "cell_type": "markdown",
      "source": [
        "14.Determine wheather type ?"
      ],
      "metadata": {
        "id": "Kw7MBVUNJ6Xy"
      }
    },
    {
      "cell_type": "code",
      "source": [
        "temp = int(input('enter temprature in celcius'))\n",
        "humid= int(input('enter humidity percentage'))\n",
        "if temp >=30 and humid >=90:\n",
        "  print('hot and humid')\n",
        "elif temp >=30 and humid <90:\n",
        "  print('cold and humid')\n",
        "else:\n",
        "  print('cold')"
      ],
      "metadata": {
        "id": "GKcIOZfjKwpe",
        "outputId": "6a7ff56a-1cec-44ff-995f-439917850891",
        "colab": {
          "base_uri": "https://localhost:8080/"
        }
      },
      "execution_count": 7,
      "outputs": [
        {
          "output_type": "stream",
          "name": "stdout",
          "text": [
            "enter temprature in celcius45\n",
            "enter humidity percentage95\n",
            "hot and humid\n"
          ]
        }
      ]
    },
    {
      "cell_type": "code",
      "source": [],
      "metadata": {
        "id": "ohe-Kd4IMByc"
      },
      "execution_count": null,
      "outputs": []
    },
    {
      "cell_type": "markdown",
      "source": [
        "**15.Python program to find the sum off the square of a given number?**"
      ],
      "metadata": {
        "id": "asqSq1JBMOKQ"
      }
    },
    {
      "cell_type": "code",
      "source": [
        "num= int (input('enter ur  number'))\n",
        "a= num %10\n",
        "num = num// 10\n",
        "b=num%10\n",
        "c=num//10\n",
        "sum=a**2+b**2+c**2\n",
        "print('required number is ',sum)\n",
        "\n"
      ],
      "metadata": {
        "id": "MV0FWDILMrs3",
        "outputId": "c602c130-1122-4970-d034-5697c34fc743",
        "colab": {
          "base_uri": "https://localhost:8080/"
        }
      },
      "execution_count": 14,
      "outputs": [
        {
          "output_type": "stream",
          "name": "stdout",
          "text": [
            "enter ur  number673405749\n",
            "required number is  45347523679346\n"
          ]
        }
      ]
    },
    {
      "cell_type": "code",
      "source": [],
      "metadata": {
        "id": "58uAEGTUNgAL"
      },
      "execution_count": 14,
      "outputs": []
    },
    {
      "cell_type": "markdown",
      "source": [
        "16 . python program to cheak  if a given  number is armstrong number or not ?"
      ],
      "metadata": {
        "id": "zHDRUyu3OGlT"
      }
    },
    {
      "cell_type": "code",
      "source": [
        "user_input=int(input('enter ur number'))\n",
        "num= user_input\n",
        "a= num % 10\n",
        "num = num // 10\n",
        "b=num%10\n",
        "c=num//10\n",
        "\n",
        "\n",
        "if (a**3)+(b**3)+(c**3)==user_input:\n",
        "  print('number is armstrong number')\n",
        "else:\n",
        "  print('not armstrong number')\n",
        "\n"
      ],
      "metadata": {
        "id": "YCCQgbGTOWUI",
        "outputId": "34d04c52-5122-44d4-a927-77fe6900f29c",
        "colab": {
          "base_uri": "https://localhost:8080/"
        }
      },
      "execution_count": 19,
      "outputs": [
        {
          "output_type": "stream",
          "name": "stdout",
          "text": [
            "enter ur number153\n",
            "number is armstrong number\n"
          ]
        }
      ]
    },
    {
      "cell_type": "code",
      "source": [],
      "metadata": {
        "id": "kbQsegD5Qyhr"
      },
      "execution_count": 19,
      "outputs": []
    },
    {
      "cell_type": "markdown",
      "source": [
        "**17. Narcissictic number**"
      ],
      "metadata": {
        "id": "5Tdc0274RqBy"
      }
    },
    {
      "cell_type": "code",
      "source": [],
      "metadata": {
        "id": "IWuQYP8fRsaJ"
      },
      "execution_count": null,
      "outputs": []
    }
  ]
}
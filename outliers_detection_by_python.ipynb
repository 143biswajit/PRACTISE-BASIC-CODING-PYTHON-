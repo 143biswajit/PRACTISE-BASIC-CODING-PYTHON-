{
  "nbformat": 4,
  "nbformat_minor": 0,
  "metadata": {
    "colab": {
      "provenance": [],
      "authorship_tag": "ABX9TyOeHLv0cu0MLbDaGZcxq0En",
      "include_colab_link": true
    },
    "kernelspec": {
      "name": "python3",
      "display_name": "Python 3"
    },
    "language_info": {
      "name": "python"
    }
  },
  "cells": [
    {
      "cell_type": "markdown",
      "metadata": {
        "id": "view-in-github",
        "colab_type": "text"
      },
      "source": [
        "<a href=\"https://colab.research.google.com/github/143biswajit/PRACTISE-BASIC-CODING-PYTHON-/blob/main/outliers_detection_by_python.ipynb\" target=\"_parent\"><img src=\"https://colab.research.google.com/assets/colab-badge.svg\" alt=\"Open In Colab\"/></a>"
      ]
    },
    {
      "cell_type": "code",
      "source": [
        "import numpy as np\n",
        "import matplotlib.pyplot as plt\n",
        "%matplotlib inline"
      ],
      "metadata": {
        "id": "X9NHupGKRfCm"
      },
      "execution_count": 1,
      "outputs": []
    },
    {
      "cell_type": "code",
      "source": [
        "## Define our data set\n",
        "dataset=[11,10,12,14,12,15,14,13,15,102,12,14,17,19,107,10,13,12,11,14,13,15,10,15,12,10,14,13,15,10]"
      ],
      "metadata": {
        "id": "QOcYyae0StzT"
      },
      "execution_count": 2,
      "outputs": []
    },
    {
      "cell_type": "code",
      "source": [
        "plt.hist(dataset)"
      ],
      "metadata": {
        "colab": {
          "base_uri": "https://localhost:8080/",
          "height": 340
        },
        "id": "8GhaRearVhA0",
        "outputId": "c1237c46-9464-4b03-faeb-cac8dd09e8d6"
      },
      "execution_count": 3,
      "outputs": [
        {
          "output_type": "execute_result",
          "data": {
            "text/plain": [
              "(array([28.,  0.,  0.,  0.,  0.,  0.,  0.,  0.,  0.,  2.]),\n",
              " array([ 10. ,  19.7,  29.4,  39.1,  48.8,  58.5,  68.2,  77.9,  87.6,\n",
              "         97.3, 107. ]),\n",
              " <a list of 10 Patch objects>)"
            ]
          },
          "metadata": {},
          "execution_count": 3
        },
        {
          "output_type": "display_data",
          "data": {
            "text/plain": [
              "<Figure size 432x288 with 1 Axes>"
            ],
            "image/png": "[encoded data removed]"
          },
          "metadata": {
            "needs_background": "light"
          }
        }
      ]
    },
    {
      "cell_type": "code",
      "source": [
        "# Z-score\n",
        "outlires=[]\n",
        "def detect_outlires(data):\n",
        "    thresholds=3 ##3rd standard deviation\n",
        "    mean=np.mean(data)\n",
        "    std=np.std(data)\n",
        "    for i in data:\n",
        "        z_score=(i-mean)/std\n",
        "        if np.abs(z_score)>thresholds:\n",
        "            outlires.append(i)\n",
        "    return outlires\n",
        "\n"
      ],
      "metadata": {
        "id": "WZa1FDZnWTsX"
      },
      "execution_count": 4,
      "outputs": []
    },
    {
      "cell_type": "code",
      "source": [
        "detect_outlires(dataset)"
      ],
      "metadata": {
        "colab": {
          "base_uri": "https://localhost:8080/"
        },
        "id": "FEtZ9351bSWb",
        "outputId": "43e2fbfa-93fc-49b0-cdb3-f6a144375174"
      },
      "execution_count": 5,
      "outputs": [
        {
          "output_type": "execute_result",
          "data": {
            "text/plain": [
              "[102, 107]"
            ]
          },
          "metadata": {},
          "execution_count": 5
        }
      ]
    },
    {
      "cell_type": "markdown",
      "source": [
        "## IQR\n",
        "1.1short the data\n",
        "\n",
        "2.calculate Q1(25%) and Q3(75%)\n",
        "\n",
        "3.IQR (Q3-Q1)\n",
        "\n",
        "4.Find the lower fance (Q1-1.5(iqr))\n",
        "\n",
        "5.Find the upper fence (Q3+1.5(iqr))"
      ],
      "metadata": {
        "id": "eUmRPD-3beQ3"
      }
    },
    {
      "cell_type": "code",
      "source": [
        "# sort\n",
        "dataset=sorted(dataset)"
      ],
      "metadata": {
        "id": "r8915h6SceyH"
      },
      "execution_count": 6,
      "outputs": []
    },
    {
      "cell_type": "code",
      "source": [
        "dataset"
      ],
      "metadata": {
        "colab": {
          "base_uri": "https://localhost:8080/"
        },
        "id": "Vs--ssp-bXqb",
        "outputId": "46d36719-e75f-4ba4-b877-6fbf4c450a12"
      },
      "execution_count": 7,
      "outputs": [
        {
          "output_type": "execute_result",
          "data": {
            "text/plain": [
              "[10,\n",
              " 10,\n",
              " 10,\n",
              " 10,\n",
              " 10,\n",
              " 11,\n",
              " 11,\n",
              " 12,\n",
              " 12,\n",
              " 12,\n",
              " 12,\n",
              " 12,\n",
              " 13,\n",
              " 13,\n",
              " 13,\n",
              " 13,\n",
              " 14,\n",
              " 14,\n",
              " 14,\n",
              " 14,\n",
              " 14,\n",
              " 15,\n",
              " 15,\n",
              " 15,\n",
              " 15,\n",
              " 15,\n",
              " 17,\n",
              " 19,\n",
              " 102,\n",
              " 107]"
            ]
          },
          "metadata": {},
          "execution_count": 7
        }
      ]
    },
    {
      "cell_type": "code",
      "source": [
        "Q1,Q3=np.percentile(dataset,[25,75])\n",
        "print(Q1,Q3)"
      ],
      "metadata": {
        "colab": {
          "base_uri": "https://localhost:8080/"
        },
        "id": "ED-wDVw8cr8r",
        "outputId": "878e5204-5ab0-45c3-b68e-2f0bc5047feb"
      },
      "execution_count": 8,
      "outputs": [
        {
          "output_type": "stream",
          "name": "stdout",
          "text": [
            "12.0 15.0\n"
          ]
        }
      ]
    },
    {
      "cell_type": "code",
      "source": [
        "IQR=Q3-Q1\n",
        "print(IQR)\n"
      ],
      "metadata": {
        "colab": {
          "base_uri": "https://localhost:8080/"
        },
        "id": "ILjU_ixHdCKP",
        "outputId": "541da2b1-5061-4f49-a8b3-19f6701af279"
      },
      "execution_count": 9,
      "outputs": [
        {
          "output_type": "stream",
          "name": "stdout",
          "text": [
            "3.0\n"
          ]
        }
      ]
    },
    {
      "cell_type": "code",
      "source": [
        "##Find the lower fence and upper fence\n",
        "lower_fence=Q1-(1.5*IQR)\n",
        "outer_fence=Q3+(1.5*IQR)\n",
        "print(lower_fence,outer_fence)\n"
      ],
      "metadata": {
        "colab": {
          "base_uri": "https://localhost:8080/"
        },
        "id": "qsIk2vITdNxz",
        "outputId": "490c3155-c0bb-4735-e86c-6f0d2e13a600"
      },
      "execution_count": 10,
      "outputs": [
        {
          "output_type": "stream",
          "name": "stdout",
          "text": [
            "7.5 19.5\n"
          ]
        }
      ]
    },
    {
      "cell_type": "code",
      "source": [
        "for i in dataset:\n",
        "    if i in range(75//10,195//10):\n",
        "        print('no',i)\n",
        "    else:\n",
        "        print('outlires',i)"
      ],
      "metadata": {
        "colab": {
          "base_uri": "https://localhost:8080/"
        },
        "id": "TuePY1pyei5X",
        "outputId": "3a037599-d8a2-4935-a30f-5f13e8fd568f"
      },
      "execution_count": 16,
      "outputs": [
        {
          "output_type": "stream",
          "name": "stdout",
          "text": [
            "no 10\n",
            "no 10\n",
            "no 10\n",
            "no 10\n",
            "no 10\n",
            "no 11\n",
            "no 11\n",
            "no 12\n",
            "no 12\n",
            "no 12\n",
            "no 12\n",
            "no 12\n",
            "no 13\n",
            "no 13\n",
            "no 13\n",
            "no 13\n",
            "no 14\n",
            "no 14\n",
            "no 14\n",
            "no 14\n",
            "no 14\n",
            "no 15\n",
            "no 15\n",
            "no 15\n",
            "no 15\n",
            "no 15\n",
            "no 17\n",
            "outlires 19\n",
            "outlires 102\n",
            "outlires 107\n"
          ]
        }
      ]
    },
    {
      "cell_type": "code",
      "source": [],
      "metadata": {
        "id": "9mIuZJ8clJy9"
      },
      "execution_count": null,
      "outputs": []
    }
  ]
}
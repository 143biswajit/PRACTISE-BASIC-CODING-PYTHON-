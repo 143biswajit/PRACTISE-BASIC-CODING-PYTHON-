{
  "cells": [
    {
      "cell_type": "markdown",
      "metadata": {
        "id": "view-in-github",
        "colab_type": "text"
      },
      "source": [
        "<a href=\"https://colab.research.google.com/github/143biswajit/PRACTISE-BASIC-CODING-PYTHON-/blob/main/sum_of_any_number.ipynb\" target=\"_parent\"><img src=\"https://colab.research.google.com/assets/colab-badge.svg\" alt=\"Open In Colab\"/></a>"
      ]
    },
    {
      "cell_type": "code",
      "execution_count": null,
      "metadata": {
        "colab": {
          "base_uri": "https://localhost:8080/"
        },
        "id": "-gfZx6eZxMhB",
        "outputId": "046c6aa1-0c84-4c1a-8d1a-d8d0036c2de9"
      },
      "outputs": [
        {
          "data": {
            "text/plain": [
              "8"
            ]
          },
          "execution_count": 8,
          "metadata": {},
          "output_type": "execute_result"
        }
      ],
      "source": [
        "a= 428 % 10\n",
        "a"
      ]
    },
    {
      "cell_type": "code",
      "execution_count": null,
      "metadata": {
        "colab": {
          "base_uri": "https://localhost:8080/"
        },
        "id": "No-ige_xzFDd",
        "outputId": "9300d782-c167-41a2-a5df-9db9b410bbea"
      },
      "outputs": [
        {
          "data": {
            "text/plain": [
              "42"
            ]
          },
          "execution_count": 9,
          "metadata": {},
          "output_type": "execute_result"
        }
      ],
      "source": [
        "num=428//10\n",
        "num\n"
      ]
    },
    {
      "cell_type": "code",
      "execution_count": null,
      "metadata": {
        "colab": {
          "base_uri": "https://localhost:8080/"
        },
        "id": "NLnGvfvJzVib",
        "outputId": "b2a139f9-f6bb-47fb-e730-f5548e4ac30b"
      },
      "outputs": [
        {
          "data": {
            "text/plain": [
              "2"
            ]
          },
          "execution_count": 10,
          "metadata": {},
          "output_type": "execute_result"
        }
      ],
      "source": [
        "b=42 % 10\n",
        "b"
      ]
    },
    {
      "cell_type": "code",
      "execution_count": null,
      "metadata": {
        "colab": {
          "base_uri": "https://localhost:8080/"
        },
        "id": "knRqcaXjzhTX",
        "outputId": "9bfc101e-1875-4be2-f7e5-5f619874a7cb"
      },
      "outputs": [
        {
          "data": {
            "text/plain": [
              "4"
            ]
          },
          "execution_count": 11,
          "metadata": {},
          "output_type": "execute_result"
        }
      ],
      "source": [
        "num=42 // 10\n",
        "num"
      ]
    },
    {
      "cell_type": "code",
      "execution_count": null,
      "metadata": {
        "colab": {
          "base_uri": "https://localhost:8080/"
        },
        "id": "CGqGboqnzn90",
        "outputId": "f6207791-dfef-40ba-fcf2-ec1f2aca5461"
      },
      "outputs": [
        {
          "data": {
            "text/plain": [
              "4"
            ]
          },
          "execution_count": 13,
          "metadata": {},
          "output_type": "execute_result"
        }
      ],
      "source": [
        "c=42//10\n",
        "c"
      ]
    },
    {
      "cell_type": "code",
      "execution_count": null,
      "metadata": {
        "colab": {
          "base_uri": "https://localhost:8080/"
        },
        "id": "ITpJ4oOw0ffL",
        "outputId": "0d8b32a2-4f1a-46b1-f657-167ef15ac912"
      },
      "outputs": [
        {
          "data": {
            "text/plain": [
              "14"
            ]
          },
          "execution_count": 14,
          "metadata": {},
          "output_type": "execute_result"
        }
      ],
      "source": [
        "a+b+c"
      ]
    },
    {
      "cell_type": "code",
      "execution_count": null,
      "metadata": {
        "colab": {
          "base_uri": "https://localhost:8080/"
        },
        "id": "CICWPIxX2U2S",
        "outputId": "bce5ae7b-dd74-4d10-f7ac-203061a17a4e"
      },
      "outputs": [
        {
          "data": {
            "text/plain": [
              "543"
            ]
          },
          "execution_count": 18,
          "metadata": {},
          "output_type": "execute_result"
        }
      ],
      "source": [
        "rev=100*a+10*b+1*c\n",
        "rev"
      ]
    },
    {
      "cell_type": "code",
      "execution_count": null,
      "metadata": {
        "colab": {
          "base_uri": "https://localhost:8080/"
        },
        "id": "I7YKIoWB0kJv",
        "outputId": "3c571011-16d3-4245-cf90-c1ad0fec5dc8"
      },
      "outputs": [
        {
          "name": "stdout",
          "output_type": "stream",
          "text": [
            "enter ur 3 digits number345\n",
            "12\n"
          ]
        }
      ],
      "source": [
        "num=int(input(\"enter ur 3 digits number\"))\n",
        "\n",
        "a=num%10\n",
        "num=num//10\n",
        "b=num%10\n",
        "c=num//10\n",
        "add=(a+b+c)\n",
        "print(add)\n"
      ]
    },
    {
      "cell_type": "code",
      "execution_count": null,
      "metadata": {
        "colab": {
          "base_uri": "https://localhost:8080/"
        },
        "id": "0903_gyR2Mn-",
        "outputId": "ca12b8a5-5d2f-4dbc-fb94-f3c28b91ce31"
      },
      "outputs": [
        {
          "name": "stdout",
          "output_type": "stream",
          "text": [
            "enter ur 4 digits number3456\n",
            "6543\n"
          ]
        }
      ],
      "source": [
        "num=int(input(\"enter ur 4 digits number\"))\n",
        "i=num%10\n",
        "num=num//10\n",
        "j=num%10\n",
        "num=num//10\n",
        "k=num%10\n",
        "l=num//10\n",
        "rev=(1000*i)+(100*j)+(10*k)+(1*l)\n",
        "print(rev)\n"
      ]
    },
    {
      "cell_type": "code",
      "execution_count": null,
      "metadata": {
        "id": "MqqZKQY54YrK"
      },
      "outputs": [],
      "source": [
        "sum_sq=(i**2+j**2+k**2+l**2)"
      ]
    },
    {
      "cell_type": "code",
      "execution_count": null,
      "metadata": {
        "colab": {
          "base_uri": "https://localhost:8080/"
        },
        "id": "I0oYpC6371Tz",
        "outputId": "6a225b96-aded-4648-dd3e-9f19fc31146a"
      },
      "outputs": [
        {
          "name": "stdout",
          "output_type": "stream",
          "text": [
            "86\n"
          ]
        }
      ],
      "source": [
        "print(sum_sq)"
      ]
    },
    {
      "cell_type": "code",
      "execution_count": null,
      "metadata": {
        "id": "Lcfa4009767o"
      },
      "outputs": [],
      "source": [
        "list=int(input(\"enter ur list\\n\"))\n",
        "\n",
        "if list"
      ]
    },
    {
      "cell_type": "code",
      "execution_count": null,
      "metadata": {
        "colab": {
          "base_uri": "https://localhost:8080/"
        },
        "id": "KnA96-nFEy9Y",
        "outputId": "7759d19d-4a80-42b0-cf0d-95a5bc3a5c6c"
      },
      "outputs": [
        {
          "name": "stdout",
          "output_type": "stream",
          "text": [
            "Enter a number:456\n",
            "The total sum of digits is: 15\n"
          ]
        }
      ],
      "source": [
        "n=int(input(\"Enter a number:\")) \n",
        "tot=0\n",
        "while(n>0):\n",
        "    dig=n%10 \n",
        "    tot=tot+dig \n",
        "    n=n//10\n",
        "print(\"The total sum of digits is:\",tot)"
      ]
    },
    {
      "cell_type": "code",
      "execution_count": null,
      "metadata": {
        "colab": {
          "background_save": true,
          "base_uri": "https://localhost:8080/"
        },
        "id": "x-Y5uUI6OzBo",
        "outputId": "57effcf3-908f-489a-d78f-21d7cc079805"
      },
      "outputs": [
        {
          "name": "stdout",
          "output_type": "stream",
          "text": [
            "12\n"
          ]
        }
      ],
      "source": [
        "num=int(input(\"enter ur 3 digits number\"))\n",
        "\n",
        "a=num%10\n",
        "num=num//10\n",
        "b=num%10\n",
        "c=num//10\n",
        "add=(a+b+c)\n",
        "print(add)"
      ]
    },
    {
      "cell_type": "code",
      "execution_count": null,
      "metadata": {
        "id": "Q5Ctl4nEK3Sb"
      },
      "outputs": [],
      "source": [
        "num=int(input(\"Enter a number:\"))\n",
        "tot = 0\n",
        "while(num>0):\n",
        "    dig=num%10\n",
        "    tot = tot + dig\n",
        "    num = num//10\n",
        "print(tot)"
      ]
    },
    {
      "cell_type": "code",
      "execution_count": null,
      "metadata": {
        "colab": {
          "base_uri": "https://localhost:8080/"
        },
        "id": "AWl0wfIaF8pm",
        "outputId": "e3f6ea3b-9799-454f-fdac-5c57b03cf2b7"
      },
      "outputs": [
        {
          "data": {
            "text/plain": [
              "5"
            ]
          },
          "execution_count": 3,
          "metadata": {},
          "output_type": "execute_result"
        }
      ],
      "source": [
        "25%10"
      ]
    },
    {
      "cell_type": "code",
      "execution_count": null,
      "metadata": {
        "colab": {
          "base_uri": "https://localhost:8080/"
        },
        "id": "9HdatUFeGGMv",
        "outputId": "7093042b-82cf-410e-ec3c-bde181300500"
      },
      "outputs": [
        {
          "data": {
            "text/plain": [
              "2"
            ]
          },
          "execution_count": 4,
          "metadata": {},
          "output_type": "execute_result"
        }
      ],
      "source": [
        "25//10"
      ]
    },
    {
      "cell_type": "code",
      "execution_count": null,
      "metadata": {
        "colab": {
          "base_uri": "https://localhost:8080/"
        },
        "id": "XDUu25BwI-Ep",
        "outputId": "70b919d9-d8b5-4c07-a58c-998407895422"
      },
      "outputs": [
        {
          "data": {
            "text/plain": [
              "2"
            ]
          },
          "execution_count": 8,
          "metadata": {},
          "output_type": "execute_result"
        }
      ],
      "source": [
        "2%10"
      ]
    },
    {
      "cell_type": "code",
      "execution_count": null,
      "metadata": {
        "colab": {
          "base_uri": "https://localhost:8080/"
        },
        "id": "1UFNmP0cI_HC",
        "outputId": "165372ff-f463-4c94-f08a-48e76ad8eac1"
      },
      "outputs": [
        {
          "data": {
            "text/plain": [
              "0"
            ]
          },
          "execution_count": 9,
          "metadata": {},
          "output_type": "execute_result"
        }
      ],
      "source": [
        "2//10"
      ]
    },
    {
      "cell_type": "code",
      "execution_count": null,
      "metadata": {
        "colab": {
          "base_uri": "https://localhost:8080/"
        },
        "id": "cJcbffpXKmqC",
        "outputId": "98fc90ad-1bf5-4ccc-e09e-8f1798df3253"
      },
      "outputs": [
        {
          "name": "stdout",
          "output_type": "stream",
          "text": [
            "enter ur 3 digits number25\n",
            "7\n"
          ]
        }
      ],
      "source": [
        "num=int(input(\"enter ur 3 digits number\"))\n",
        "\n",
        "a=num%10\n",
        "num=num//10\n",
        "b=num%10\n",
        "c=num//10\n",
        "add=(a+b+c)\n",
        "print(add)\n"
      ]
    },
    {
      "cell_type": "code",
      "execution_count": null,
      "metadata": {
        "id": "JYlt6SPXOYUL"
      },
      "outputs": [],
      "source": [
        "56"
      ]
    },
    {
      "cell_type": "code",
      "source": [
        "a='hello'\n",
        "a[-1]"
      ],
      "metadata": {
        "colab": {
          "base_uri": "https://localhost:8080/",
          "height": 36
        },
        "id": "Z1qh_Tj6wmrO",
        "outputId": "d1a5979a-d8c9-45e0-edd5-8a30876c99b4"
      },
      "execution_count": 23,
      "outputs": [
        {
          "output_type": "execute_result",
          "data": {
            "text/plain": [
              "'olleh'"
            ],
            "application/vnd.google.colaboratory.intrinsic+json": {
              "type": "string"
            }
          },
          "metadata": {},
          "execution_count": 23
        }
      ]
    },
    {
      "cell_type": "code",
      "source": [
        "import numpy as np\n",
        "ab =np.array([1,2,3,4,5])\n",
        "b = len(ab)\n",
        "d= []\n",
        "for i in ab:\n",
        "    c = ab[::-1]\n",
        "    d.append(c)\n",
        "print(d)"
      ],
      "metadata": {
        "colab": {
          "base_uri": "https://localhost:8080/"
        },
        "id": "JjPL8zO0wvNv",
        "outputId": "44a6c183-75f9-44ca-895b-7ebe4c937080"
      },
      "execution_count": null,
      "outputs": [
        {
          "output_type": "stream",
          "name": "stdout",
          "text": [
            "[array([5, 4, 3, 2, 1]), array([5, 4, 3, 2, 1]), array([5, 4, 3, 2, 1]), array([5, 4, 3, 2, 1]), array([5, 4, 3, 2, 1])]\n"
          ]
        }
      ]
    },
    {
      "cell_type": "code",
      "source": [
        "import numpy as np\n",
        "np.array([1,2,3,4])"
      ],
      "metadata": {
        "colab": {
          "base_uri": "https://localhost:8080/"
        },
        "id": "hu3hq5m6xDMW",
        "outputId": "3bed7da8-f810-4969-d817-2e88b0a7c3b1"
      },
      "execution_count": null,
      "outputs": [
        {
          "output_type": "execute_result",
          "data": {
            "text/plain": [
              "array([1, 2, 3, 4])"
            ]
          },
          "metadata": {},
          "execution_count": 18
        }
      ]
    },
    {
      "cell_type": "code",
      "source": [
        "name='BISWAJIT'\n"
      ],
      "metadata": {
        "id": "fw42-xCyzHcY"
      },
      "execution_count": null,
      "outputs": []
    },
    {
      "cell_type": "code",
      "source": [
        "a={10,9,8,7,8,6}\n",
        "b={7}\n",
        "print(a.difference(b))"
      ],
      "metadata": {
        "colab": {
          "base_uri": "https://localhost:8080/"
        },
        "id": "2qJ54eei3hFc",
        "outputId": "b9d0484a-0f10-470d-ace1-d63ab10719cb"
      },
      "execution_count": 29,
      "outputs": [
        {
          "output_type": "stream",
          "name": "stdout",
          "text": [
            "{8, 9, 10, 6}\n"
          ]
        }
      ]
    },
    {
      "cell_type": "code",
      "source": [
        "a='biswajit'\n",
        "b='i'\n",
        "a.replace('i','') "
      ],
      "metadata": {
        "colab": {
          "base_uri": "https://localhost:8080/",
          "height": 36
        },
        "id": "cxYcDKUa5Sf5",
        "outputId": "9d62e9c6-a881-4bc0-91ef-226c2a847f7b"
      },
      "execution_count": 36,
      "outputs": [
        {
          "output_type": "execute_result",
          "data": {
            "text/plain": [
              "'bswajt'"
            ],
            "application/vnd.google.colaboratory.intrinsic+json": {
              "type": "string"
            }
          },
          "metadata": {},
          "execution_count": 36
        }
      ]
    },
    {
      "cell_type": "code",
      "source": [
        "num=int(input('enter ur number'))\n",
        "sum=0\n",
        "while(num>0):\n",
        "    dig=num%10\n",
        "    sum=sum+dig\n",
        "    num=num//10\n",
        "print(sum)"
      ],
      "metadata": {
        "colab": {
          "base_uri": "https://localhost:8080/"
        },
        "id": "eBTWJPCP4ASG",
        "outputId": "f289b5d7-3947-442a-b58b-c773ef3c3721"
      },
      "execution_count": 60,
      "outputs": [
        {
          "output_type": "stream",
          "name": "stdout",
          "text": [
            "enter ur number690\n",
            "15\n"
          ]
        }
      ]
    },
    {
      "cell_type": "code",
      "source": [
        "56%10"
      ],
      "metadata": {
        "colab": {
          "base_uri": "https://localhost:8080/"
        },
        "id": "jFei_R43Guyr",
        "outputId": "bc73384a-aee0-412a-b4e7-4a3b6d198e8d"
      },
      "execution_count": 61,
      "outputs": [
        {
          "output_type": "execute_result",
          "data": {
            "text/plain": [
              "6"
            ]
          },
          "metadata": {},
          "execution_count": 61
        }
      ]
    },
    {
      "cell_type": "code",
      "source": [
        "56//10"
      ],
      "metadata": {
        "colab": {
          "base_uri": "https://localhost:8080/"
        },
        "id": "Qu4aab3YHlwc",
        "outputId": "b35133cf-50fe-41d9-a286-ce951101ad8a"
      },
      "execution_count": 57,
      "outputs": [
        {
          "output_type": "execute_result",
          "data": {
            "text/plain": [
              "5"
            ]
          },
          "metadata": {},
          "execution_count": 57
        }
      ]
    },
    {
      "cell_type": "code",
      "source": [
        "s=\"biswajit and ajit stay at vathsalyapg\"\n",
        "s.count('a')\n",
        "s.count('i')"
      ],
      "metadata": {
        "colab": {
          "base_uri": "https://localhost:8080/"
        },
        "id": "3vCdF1em7CuQ",
        "outputId": "edddc908-c469-4ffd-ff23-1125f5a7acc5"
      },
      "execution_count": 55,
      "outputs": [
        {
          "output_type": "execute_result",
          "data": {
            "text/plain": [
              "3"
            ]
          },
          "metadata": {},
          "execution_count": 55
        }
      ]
    },
    {
      "cell_type": "code",
      "source": [
        "a=100\n",
        "b=200\n",
        "a=b+a\n",
        "b=a-b\n",
        "a=a-b\n",
        "print(a)\n",
        "print(b)\n"
      ],
      "metadata": {
        "colab": {
          "base_uri": "https://localhost:8080/"
        },
        "id": "PbmjNXF1AIL4",
        "outputId": "77c2e8bd-ef45-4264-b982-14f0bddeab6d"
      },
      "execution_count": 39,
      "outputs": [
        {
          "output_type": "stream",
          "name": "stdout",
          "text": [
            "200\n",
            "100\n"
          ]
        }
      ]
    },
    {
      "cell_type": "code",
      "source": [
        "a=int(input(\"enter u number\"))\n",
        "b=int(input('enter u number'))\n",
        "a=b+a\n",
        "b=a-b\n",
        "a=a-b\n",
        "print(a)\n",
        "print(b)"
      ],
      "metadata": {
        "colab": {
          "base_uri": "https://localhost:8080/"
        },
        "id": "u6pbzq9cBPbP",
        "outputId": "d3fca141-ca3a-4921-d6da-706792fc9465"
      },
      "execution_count": 40,
      "outputs": [
        {
          "output_type": "stream",
          "name": "stdout",
          "text": [
            "enter u number8\n",
            "enter u number9\n",
            "9\n",
            "8\n"
          ]
        }
      ]
    },
    {
      "cell_type": "code",
      "source": [
        "a=int(input(\"enter u number\"))\n",
        "b=int(input('enter u number'))\n",
        "a=\n",
        "print(a)\n",
        "print(b)"
      ],
      "metadata": {
        "id": "SHBy_r2zByT_"
      },
      "execution_count": null,
      "outputs": []
    }
  ],
  "metadata": {
    "colab": {
      "provenance": [],
      "authorship_tag": "ABX9TyMAyG3hZviCKPFF8CrYNUlp",
      "include_colab_link": true
    },
    "kernelspec": {
      "display_name": "Python 3",
      "name": "python3"
    },
    "language_info": {
      "name": "python"
    }
  },
  "nbformat": 4,
  "nbformat_minor": 0
}
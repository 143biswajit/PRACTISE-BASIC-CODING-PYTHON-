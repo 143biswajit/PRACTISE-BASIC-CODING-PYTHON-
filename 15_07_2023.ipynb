{
  "nbformat": 4,
  "nbformat_minor": 0,
  "metadata": {
    "colab": {
      "provenance": [],
      "authorship_tag": "ABX9TyNewciDZjD2HyG5Xp4DcIBb",
      "include_colab_link": true
    },
    "kernelspec": {
      "name": "python3",
      "display_name": "Python 3"
    },
    "language_info": {
      "name": "python"
    }
  },
  "cells": [
    {
      "cell_type": "markdown",
      "metadata": {
        "id": "view-in-github",
        "colab_type": "text"
      },
      "source": [
        "<a href=\"https://colab.research.google.com/github/143biswajit/PRACTISE-BASIC-CODING-PYTHON-/blob/main/15_07_2023.ipynb\" target=\"_parent\"><img src=\"https://colab.research.google.com/assets/colab-badge.svg\" alt=\"Open In Colab\"/></a>"
      ]
    },
    {
      "cell_type": "code",
      "execution_count": null,
      "metadata": {
        "id": "dew5_cSA26Os"
      },
      "outputs": [],
      "source": [
        "#Write a Python function to check if a given integer is even or odd."
      ]
    },
    {
      "cell_type": "code",
      "source": [
        "def _num(num):\n",
        "    if num%2==0:\n",
        "        return 'even'\n",
        "    else:\n",
        "        return 'odd'\n"
      ],
      "metadata": {
        "id": "DtyHDxmW4sc2"
      },
      "execution_count": 8,
      "outputs": []
    },
    {
      "cell_type": "code",
      "source": [
        "a=_num(5)\n",
        "a"
      ],
      "metadata": {
        "colab": {
          "base_uri": "https://localhost:8080/",
          "height": 36
        },
        "id": "-9zlQjA15AG1",
        "outputId": "485a3c70-cc4f-4580-ec37-b500a895b310"
      },
      "execution_count": 10,
      "outputs": [
        {
          "output_type": "execute_result",
          "data": {
            "text/plain": [
              "'odd'"
            ],
            "application/vnd.google.colaboratory.intrinsic+json": {
              "type": "string"
            }
          },
          "metadata": {},
          "execution_count": 10
        }
      ]
    },
    {
      "cell_type": "code",
      "source": [
        "#  Write a Python program that finds the sum of all the multiples of 3 or 5 below a given integer.\n",
        "\n",
        "# Similarly, a number, n, will be a multiple of 3 and 5 if the remainder of n / 3 n/3 n/3 and n / 5 n/5 n/5 is equal to 0."
      ],
      "metadata": {
        "id": "hOY1_6ur5YXb"
      },
      "execution_count": null,
      "outputs": []
    },
    {
      "cell_type": "code",
      "source": [
        "def sum_multiple(num):\n",
        "    sum=0\n",
        "    for i in range(num):\n",
        "        if i% 3 == 0 or i % 5 == 0:\n",
        "            sum =sum+ i\n",
        "    return sum\n",
        "\n"
      ],
      "metadata": {
        "id": "3ZuCwCVt8O8I"
      },
      "execution_count": 16,
      "outputs": []
    },
    {
      "cell_type": "code",
      "source": [
        "\n",
        "\n",
        "\n",
        "num= 20\n",
        "result = sum_multiple(num)\n",
        "print(\"The sum of multiples of 3 or 5 below\", num, \"is:\", result)\n"
      ],
      "metadata": {
        "colab": {
          "base_uri": "https://localhost:8080/"
        },
        "id": "nppwvQyK6cgD",
        "outputId": "8b2a6a66-1667-4a75-fb08-3d1d16578970"
      },
      "execution_count": 17,
      "outputs": [
        {
          "output_type": "stream",
          "name": "stdout",
          "text": [
            "The sum of multiples of 3 or 5 below 20 is: 0\n"
          ]
        }
      ]
    },
    {
      "cell_type": "code",
      "source": [
        "# Write a Python function that takes an integer as input and returns the reverse of the digits. For example, if the input is 12345, the function should return 54321."
      ],
      "metadata": {
        "id": "aCSjHn_r6daP"
      },
      "execution_count": null,
      "outputs": []
    },
    {
      "cell_type": "code",
      "source": [
        "def _reverse(num):\n",
        "    a=str(num)\n",
        "    b=a[::-1]\n",
        "    c=int(b)\n",
        "\n",
        "    return c\n"
      ],
      "metadata": {
        "id": "aFl6znnS-UkL"
      },
      "execution_count": 35,
      "outputs": []
    },
    {
      "cell_type": "code",
      "source": [
        "m=678\n",
        "f=_reverse(m)\n",
        "f"
      ],
      "metadata": {
        "colab": {
          "base_uri": "https://localhost:8080/"
        },
        "id": "jgYFp-5s_mak",
        "outputId": "b6284d74-cf81-4e31-db25-55f4be6e200c"
      },
      "execution_count": 36,
      "outputs": [
        {
          "output_type": "execute_result",
          "data": {
            "text/plain": [
              "876"
            ]
          },
          "metadata": {},
          "execution_count": 36
        }
      ]
    },
    {
      "cell_type": "code",
      "source": [
        "# Write a Python program that generates a random integer between a given range (inclusive) and asks the user to guess the number. The program should provide feedback if the guessed number is too high or too low and terminate when the correct number is guessed."
      ],
      "metadata": {
        "id": "IeVOJKfKBBuh"
      },
      "execution_count": null,
      "outputs": []
    },
    {
      "cell_type": "code",
      "source": [],
      "metadata": {
        "id": "1Jr1DFfUClbx"
      },
      "execution_count": null,
      "outputs": []
    },
    {
      "cell_type": "code",
      "source": [
        "# Write a Python function that calculates the factorial of a given positive integer. The factorial of a number is the product of all positive integers less than or equal to that number. For example, the factorial of 5 (5!) is equal to 5 * 4 * 3 * 2 * 1 = 120."
      ],
      "metadata": {
        "id": "HkLIwU3CCtlI"
      },
      "execution_count": null,
      "outputs": []
    },
    {
      "cell_type": "code",
      "source": [
        "def factorial(n):\n",
        "    if n < 0:\n",
        "        raise ValueError(\"Factorial is defined for positive integers only.\")\n",
        "    elif n == 0 or n == 1:\n",
        "        return 1\n",
        "    else:\n",
        "        result = 1\n",
        "        for i in range(2, n + 1):\n",
        "            result= result*i\n",
        "        return result\n",
        "\n",
        "\n",
        "\n"
      ],
      "metadata": {
        "id": "kKr7C3kIC7TL"
      },
      "execution_count": 38,
      "outputs": []
    },
    {
      "cell_type": "code",
      "source": [
        "a=factorial(4)\n",
        "a"
      ],
      "metadata": {
        "colab": {
          "base_uri": "https://localhost:8080/"
        },
        "id": "yRvkgwe3FQeS",
        "outputId": "2124b712-cd1d-4ace-f1aa-ac0f3afe0ee0"
      },
      "execution_count": 45,
      "outputs": [
        {
          "output_type": "execute_result",
          "data": {
            "text/plain": [
              "24"
            ]
          },
          "metadata": {},
          "execution_count": 45
        }
      ]
    },
    {
      "cell_type": "code",
      "source": [],
      "metadata": {
        "id": "k_gs0Y51Fm8t"
      },
      "execution_count": null,
      "outputs": []
    },
    {
      "cell_type": "markdown",
      "source": [
        "# String Quation"
      ],
      "metadata": {
        "id": "HqRLryGmGA7v"
      }
    },
    {
      "cell_type": "code",
      "source": [
        "# 1) Write a Python program to count the occurrences of a specific character in a given string.\n"
      ],
      "metadata": {
        "id": "Pihoo6_1GE9G"
      },
      "execution_count": null,
      "outputs": []
    },
    {
      "cell_type": "code",
      "source": [
        "def count_occurr_specific_char(string,character):\n",
        "    count=0\n",
        "    for chara in string:\n",
        "        if chara==character:\n",
        "            count=count+1\n",
        "    return count\n"
      ],
      "metadata": {
        "id": "tqTPQu7pGWuB"
      },
      "execution_count": 59,
      "outputs": []
    },
    {
      "cell_type": "code",
      "source": [
        "given_string='Biswajit Gochhayat'\n",
        "given_character='a'\n",
        "result=count_occurr_specific_char(given_string,given_character)\n",
        "print(\"the character\",given_character,'occurs',result,'times in the string')"
      ],
      "metadata": {
        "colab": {
          "base_uri": "https://localhost:8080/"
        },
        "id": "lCrPkYngIPak",
        "outputId": "1fec2a12-8fb2-46d4-b583-bb841c6de566"
      },
      "execution_count": 61,
      "outputs": [
        {
          "output_type": "stream",
          "name": "stdout",
          "text": [
            "the character a occurs 3 times in the string\n"
          ]
        }
      ]
    },
    {
      "cell_type": "code",
      "source": [
        "# 2)Write a Python function to check if a given string is a palindrome. A palindrome is a string that remains the same when its characters are reversed."
      ],
      "metadata": {
        "id": "nLSh-el9Jz7U"
      },
      "execution_count": null,
      "outputs": []
    },
    {
      "cell_type": "code",
      "source": [
        "def palindroe_or_not(string):\n",
        "\n",
        "    if string==string[::-1]:\n",
        "        return 'palindrome'\n",
        "    else:\n",
        "        return 'not'\n",
        "\n",
        "\n"
      ],
      "metadata": {
        "id": "YXpM0xagL56W"
      },
      "execution_count": 65,
      "outputs": []
    },
    {
      "cell_type": "code",
      "source": [
        "a=\"ABCDCBA\"\n",
        "result=palindroe_or_not(a)\n",
        "result"
      ],
      "metadata": {
        "colab": {
          "base_uri": "https://localhost:8080/",
          "height": 36
        },
        "id": "tU7sb6AiNQIA",
        "outputId": "c4e58e77-9b38-4101-800a-157020531693"
      },
      "execution_count": 66,
      "outputs": [
        {
          "output_type": "execute_result",
          "data": {
            "text/plain": [
              "'palindrome'"
            ],
            "application/vnd.google.colaboratory.intrinsic+json": {
              "type": "string"
            }
          },
          "metadata": {},
          "execution_count": 66
        }
      ]
    },
    {
      "cell_type": "code",
      "source": [
        "# 3)Write a Python program to find the longest common prefix among a list of strings."
      ],
      "metadata": {
        "id": "koGc_cBsOQgf"
      },
      "execution_count": null,
      "outputs": []
    },
    {
      "cell_type": "code",
      "source": [],
      "metadata": {
        "id": "a6XNpc26PWpp"
      },
      "execution_count": null,
      "outputs": []
    },
    {
      "cell_type": "code",
      "source": [
        "# 4)Write a Python function to reverse the words in a given sentence. For example, if the input is \"Hello World\", the function should return \"World Hello\"."
      ],
      "metadata": {
        "id": "gDWWJbrdPVg0"
      },
      "execution_count": null,
      "outputs": []
    },
    {
      "cell_type": "code",
      "source": [
        "def reverse(string):\n",
        "    a=string[::-1]\n",
        "    return a"
      ],
      "metadata": {
        "id": "XUbfEdEHPdC3"
      },
      "execution_count": 67,
      "outputs": []
    },
    {
      "cell_type": "code",
      "source": [
        "a=reverse('biswajit')\n",
        "a"
      ],
      "metadata": {
        "colab": {
          "base_uri": "https://localhost:8080/",
          "height": 36
        },
        "id": "axmyikb6Ptoc",
        "outputId": "894c38d5-8daa-4529-df35-6abd94c65b96"
      },
      "execution_count": 68,
      "outputs": [
        {
          "output_type": "execute_result",
          "data": {
            "text/plain": [
              "'tijawsib'"
            ],
            "application/vnd.google.colaboratory.intrinsic+json": {
              "type": "string"
            }
          },
          "metadata": {},
          "execution_count": 68
        }
      ]
    },
    {
      "cell_type": "code",
      "source": [
        "# 5)Write a Python program to remove all duplicates from a given string and maintain the original order of characters."
      ],
      "metadata": {
        "id": "j6k_ru73P00K"
      },
      "execution_count": null,
      "outputs": []
    },
    {
      "cell_type": "code",
      "source": [
        "def remove_duplicates(string):\n",
        "    result = \"\"\n",
        "    for char in string:\n",
        "        if char not in result:\n",
        "            result += char\n",
        "    return result\n",
        "\n",
        "# Example usage\n",
        "given_string = \"Hello, World!\"\n",
        "result = remove_duplicates(given_string)\n",
        "print(\"The string after removing duplicates is:\", result)\n"
      ],
      "metadata": {
        "id": "s3JaSDXUQnUV"
      },
      "execution_count": null,
      "outputs": []
    }
  ]
}